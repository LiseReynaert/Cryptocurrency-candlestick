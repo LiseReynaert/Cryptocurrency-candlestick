{
  "cells": [
    {
      "cell_type": "markdown",
      "metadata": {
        "id": "gzPCpojp-Sq8"
      },
      "source": [
        "# [Python] Crypto: REST API & candlestick graph"
      ]
    },
    {
      "cell_type": "markdown",
      "metadata": {
        "id": "jwvZm8_D-SrA"
      },
      "source": [
        "Hello :) !\n",
        "\n",
        "In this exercise, we use the <a href=\"https://www.coingecko.com/en/api?utm_medium=Exinfluencer&utm_source=Exinfluencer&utm_content=000026UJ&utm_term=10006555&utm_id=NA-SkillsNetwork-Channel-SkillsNetworkCoursesIBMDeveloperSkillsNetworkPY0101ENSkillsNetwork19487395-2022-01-01\">CoinGecko API</a> to create interactive candlestick graphs for Bitcoin with Plotly.\n",
        "\n",
        "I will use the API to get the price data for 90 days with 24 observation per day, 1 per hour. We will find the max, min, open, and close price per day meaning we will have 90 candlesticks and use that to generate the candlestick graph. We will add a 7-day moving average.\n",
        "\n",
        "The Python client/wrapper for the API called <a href=\"https://github.com/man-c/pycoingecko?utm_medium=Exinfluencer&utm_source=Exinfluencer&utm_content=000026UJ&utm_term=10006555&utm_id=NA-SkillsNetwork-Channel-SkillsNetworkCoursesIBMDeveloperSkillsNetworkPY0101ENSkillsNetwork19487395-2022-01-01\">PyCoinGecko</a>  will make the requests easing to make.\n",
        "\n",
        "## Table of contents:\n",
        "* [Settings](#zero)\n",
        "* [Data collection](#one)\n",
        "* [Wrangling](#two)\n",
        "* [Visualisation](#three)\n"
      ]
    },
    {
      "cell_type": "markdown",
      "metadata": {
        "id": "DuGJhxNj-SrB"
      },
      "source": [
        "<h2> 0. Settings </h2>  <a class=\"anchor\" id=\"zero\"></a>"
      ]
    },
    {
      "cell_type": "code",
      "execution_count": 1,
      "metadata": {
        "id": "zl1t5UPu-SrB",
        "outputId": "039cee4e-83ac-43d8-cc25-849db591c0d1",
        "colab": {
          "base_uri": "https://localhost:8080/"
        }
      },
      "outputs": [
        {
          "output_type": "stream",
          "name": "stdout",
          "text": [
            "Looking in indexes: https://pypi.org/simple, https://us-python.pkg.dev/colab-wheels/public/simple/\n",
            "Collecting pycoingecko\n",
            "  Downloading pycoingecko-3.1.0-py3-none-any.whl (8.8 kB)\n",
            "Requirement already satisfied: requests in /usr/local/lib/python3.7/dist-packages (from pycoingecko) (2.23.0)\n",
            "Requirement already satisfied: certifi>=2017.4.17 in /usr/local/lib/python3.7/dist-packages (from requests->pycoingecko) (2022.9.24)\n",
            "Requirement already satisfied: urllib3!=1.25.0,!=1.25.1,<1.26,>=1.21.1 in /usr/local/lib/python3.7/dist-packages (from requests->pycoingecko) (1.24.3)\n",
            "Requirement already satisfied: idna<3,>=2.5 in /usr/local/lib/python3.7/dist-packages (from requests->pycoingecko) (2.10)\n",
            "Requirement already satisfied: chardet<4,>=3.0.2 in /usr/local/lib/python3.7/dist-packages (from requests->pycoingecko) (3.0.4)\n",
            "Installing collected packages: pycoingecko\n",
            "Successfully installed pycoingecko-3.1.0\n",
            "Looking in indexes: https://pypi.org/simple, https://us-python.pkg.dev/colab-wheels/public/simple/\n",
            "Requirement already satisfied: plotly in /usr/local/lib/python3.7/dist-packages (5.5.0)\n",
            "Requirement already satisfied: six in /usr/local/lib/python3.7/dist-packages (from plotly) (1.15.0)\n",
            "Requirement already satisfied: tenacity>=6.2.0 in /usr/local/lib/python3.7/dist-packages (from plotly) (8.1.0)\n",
            "Looking in indexes: https://pypi.org/simple, https://us-python.pkg.dev/colab-wheels/public/simple/\n",
            "Collecting mplfinance\n",
            "  Downloading mplfinance-0.12.9b5-py3-none-any.whl (71 kB)\n",
            "\u001b[K     |████████████████████████████████| 71 kB 1.5 MB/s \n",
            "\u001b[?25hRequirement already satisfied: pandas in /usr/local/lib/python3.7/dist-packages (from mplfinance) (1.3.5)\n",
            "Requirement already satisfied: matplotlib in /usr/local/lib/python3.7/dist-packages (from mplfinance) (3.2.2)\n",
            "Requirement already satisfied: pyparsing!=2.0.4,!=2.1.2,!=2.1.6,>=2.0.1 in /usr/local/lib/python3.7/dist-packages (from matplotlib->mplfinance) (3.0.9)\n",
            "Requirement already satisfied: numpy>=1.11 in /usr/local/lib/python3.7/dist-packages (from matplotlib->mplfinance) (1.21.6)\n",
            "Requirement already satisfied: kiwisolver>=1.0.1 in /usr/local/lib/python3.7/dist-packages (from matplotlib->mplfinance) (1.4.4)\n",
            "Requirement already satisfied: cycler>=0.10 in /usr/local/lib/python3.7/dist-packages (from matplotlib->mplfinance) (0.11.0)\n",
            "Requirement already satisfied: python-dateutil>=2.1 in /usr/local/lib/python3.7/dist-packages (from matplotlib->mplfinance) (2.8.2)\n",
            "Requirement already satisfied: typing-extensions in /usr/local/lib/python3.7/dist-packages (from kiwisolver>=1.0.1->matplotlib->mplfinance) (4.1.1)\n",
            "Requirement already satisfied: six>=1.5 in /usr/local/lib/python3.7/dist-packages (from python-dateutil>=2.1->matplotlib->mplfinance) (1.15.0)\n",
            "Requirement already satisfied: pytz>=2017.3 in /usr/local/lib/python3.7/dist-packages (from pandas->mplfinance) (2022.6)\n",
            "Installing collected packages: mplfinance\n",
            "Successfully installed mplfinance-0.12.9b5\n"
          ]
        }
      ],
      "source": [
        "!pip install pycoingecko\n",
        "!pip install plotly\n",
        "!pip install mplfinance"
      ]
    },
    {
      "cell_type": "code",
      "execution_count": 2,
      "metadata": {
        "id": "lkUXemg6-SrC"
      },
      "outputs": [],
      "source": [
        "import pandas as pd\n",
        "#import numpy as np\n",
        "import plotly.graph_objects as go\n",
        "from plotly.offline import plot\n",
        "import matplotlib.pyplot as plt\n",
        "import datetime\n",
        "from pycoingecko import CoinGeckoAPI\n",
        "from mplfinance.original_flavor import candlestick2_ohlc"
      ]
    },
    {
      "cell_type": "markdown",
      "metadata": {
        "id": "feGFgCdP-SrD"
      },
      "source": [
        "<h2> 1. Data collection </h2> <a class=\"anchor\" id=\"one\"></a>"
      ]
    },
    {
      "cell_type": "markdown",
      "metadata": {
        "id": "wyQ75bLC-SrD"
      },
      "source": [
        "Let's collect the data we need !\n",
        "\n",
        "Using the <code>get_coin_market_chart_by_id(id, vs_currency, days)</code>. <code>id</code> is the name of the coin you want, <code>vs_currency</code> is the currency you want the price in, and <code>days</code> is how many days back from today you want."
      ]
    },
    {
      "cell_type": "code",
      "execution_count": 3,
      "metadata": {
        "id": "9bfHmY8k-SrD"
      },
      "outputs": [],
      "source": [
        "cg = CoinGeckoAPI()\n",
        "\n",
        "bitcoin_data = cg.get_coin_market_chart_by_id(id='bitcoin', vs_currency='usd', days=90)"
      ]
    },
    {
      "cell_type": "markdown",
      "metadata": {
        "id": "69KOAHLY-SrE"
      },
      "source": [
        "bitcoin_data is a JSON, and includes the price, market caps, and total volumes along with timestamps. \n",
        "\n",
        "We focus on the prices:"
      ]
    },
    {
      "cell_type": "code",
      "execution_count": 4,
      "metadata": {
        "id": "GgsjHYcT-SrE",
        "outputId": "bb9428c7-1ec2-4576-a014-141ba4faee5c",
        "colab": {
          "base_uri": "https://localhost:8080/"
        }
      },
      "outputs": [
        {
          "output_type": "stream",
          "name": "stdout",
          "text": [
            "[[1661958086501, 20163.5375347747], [1661961655724, 20132.098544993558], [1661965376537, 20080.277406943995], [1661968932900, 19984.336892382864], [1661972763249, 20016.774297299347], [1661976086952, 20219.71755747391], [1661979614424, 20206.78876713249], [1661983279797, 20195.51908677015], [1661986931327, 20164.62687248048], [1661990547274, 20021.14385357082]]\n"
          ]
        }
      ],
      "source": [
        "bitcoin_data_prices = bitcoin_data['prices']\n",
        "print(bitcoin_data_prices[0:10])"
      ]
    },
    {
      "cell_type": "markdown",
      "metadata": {
        "id": "qTfdjQ1v-SrF"
      },
      "source": [
        "<h2> 2. Data wrangling </h2> <a class=\"anchor\" id=\"two\"></a>"
      ]
    },
    {
      "cell_type": "markdown",
      "metadata": {
        "id": "hCH_IS29-SrF"
      },
      "source": [
        "We convert the data into a pandas dataframe, and convert the TimeStamp into a readable datetime."
      ]
    },
    {
      "cell_type": "code",
      "execution_count": 5,
      "metadata": {
        "id": "_BOggPJO-SrG",
        "outputId": "103ce252-e29e-4ef7-a6a0-65e00be052dc",
        "colab": {
          "base_uri": "https://localhost:8080/",
          "height": 206
        }
      },
      "outputs": [
        {
          "output_type": "execute_result",
          "data": {
            "text/plain": [
              "       TimeStamp         Price\n",
              "0  1661958086501  20163.537535\n",
              "1  1661961655724  20132.098545\n",
              "2  1661965376537  20080.277407\n",
              "3  1661968932900  19984.336892\n",
              "4  1661972763249  20016.774297"
            ],
            "text/html": [
              "\n",
              "  <div id=\"df-2647ed72-ba7d-4c61-b12d-559c14583530\">\n",
              "    <div class=\"colab-df-container\">\n",
              "      <div>\n",
              "<style scoped>\n",
              "    .dataframe tbody tr th:only-of-type {\n",
              "        vertical-align: middle;\n",
              "    }\n",
              "\n",
              "    .dataframe tbody tr th {\n",
              "        vertical-align: top;\n",
              "    }\n",
              "\n",
              "    .dataframe thead th {\n",
              "        text-align: right;\n",
              "    }\n",
              "</style>\n",
              "<table border=\"1\" class=\"dataframe\">\n",
              "  <thead>\n",
              "    <tr style=\"text-align: right;\">\n",
              "      <th></th>\n",
              "      <th>TimeStamp</th>\n",
              "      <th>Price</th>\n",
              "    </tr>\n",
              "  </thead>\n",
              "  <tbody>\n",
              "    <tr>\n",
              "      <th>0</th>\n",
              "      <td>1661958086501</td>\n",
              "      <td>20163.537535</td>\n",
              "    </tr>\n",
              "    <tr>\n",
              "      <th>1</th>\n",
              "      <td>1661961655724</td>\n",
              "      <td>20132.098545</td>\n",
              "    </tr>\n",
              "    <tr>\n",
              "      <th>2</th>\n",
              "      <td>1661965376537</td>\n",
              "      <td>20080.277407</td>\n",
              "    </tr>\n",
              "    <tr>\n",
              "      <th>3</th>\n",
              "      <td>1661968932900</td>\n",
              "      <td>19984.336892</td>\n",
              "    </tr>\n",
              "    <tr>\n",
              "      <th>4</th>\n",
              "      <td>1661972763249</td>\n",
              "      <td>20016.774297</td>\n",
              "    </tr>\n",
              "  </tbody>\n",
              "</table>\n",
              "</div>\n",
              "      <button class=\"colab-df-convert\" onclick=\"convertToInteractive('df-2647ed72-ba7d-4c61-b12d-559c14583530')\"\n",
              "              title=\"Convert this dataframe to an interactive table.\"\n",
              "              style=\"display:none;\">\n",
              "        \n",
              "  <svg xmlns=\"http://www.w3.org/2000/svg\" height=\"24px\"viewBox=\"0 0 24 24\"\n",
              "       width=\"24px\">\n",
              "    <path d=\"M0 0h24v24H0V0z\" fill=\"none\"/>\n",
              "    <path d=\"M18.56 5.44l.94 2.06.94-2.06 2.06-.94-2.06-.94-.94-2.06-.94 2.06-2.06.94zm-11 1L8.5 8.5l.94-2.06 2.06-.94-2.06-.94L8.5 2.5l-.94 2.06-2.06.94zm10 10l.94 2.06.94-2.06 2.06-.94-2.06-.94-.94-2.06-.94 2.06-2.06.94z\"/><path d=\"M17.41 7.96l-1.37-1.37c-.4-.4-.92-.59-1.43-.59-.52 0-1.04.2-1.43.59L10.3 9.45l-7.72 7.72c-.78.78-.78 2.05 0 2.83L4 21.41c.39.39.9.59 1.41.59.51 0 1.02-.2 1.41-.59l7.78-7.78 2.81-2.81c.8-.78.8-2.07 0-2.86zM5.41 20L4 18.59l7.72-7.72 1.47 1.35L5.41 20z\"/>\n",
              "  </svg>\n",
              "      </button>\n",
              "      \n",
              "  <style>\n",
              "    .colab-df-container {\n",
              "      display:flex;\n",
              "      flex-wrap:wrap;\n",
              "      gap: 12px;\n",
              "    }\n",
              "\n",
              "    .colab-df-convert {\n",
              "      background-color: #E8F0FE;\n",
              "      border: none;\n",
              "      border-radius: 50%;\n",
              "      cursor: pointer;\n",
              "      display: none;\n",
              "      fill: #1967D2;\n",
              "      height: 32px;\n",
              "      padding: 0 0 0 0;\n",
              "      width: 32px;\n",
              "    }\n",
              "\n",
              "    .colab-df-convert:hover {\n",
              "      background-color: #E2EBFA;\n",
              "      box-shadow: 0px 1px 2px rgba(60, 64, 67, 0.3), 0px 1px 3px 1px rgba(60, 64, 67, 0.15);\n",
              "      fill: #174EA6;\n",
              "    }\n",
              "\n",
              "    [theme=dark] .colab-df-convert {\n",
              "      background-color: #3B4455;\n",
              "      fill: #D2E3FC;\n",
              "    }\n",
              "\n",
              "    [theme=dark] .colab-df-convert:hover {\n",
              "      background-color: #434B5C;\n",
              "      box-shadow: 0px 1px 3px 1px rgba(0, 0, 0, 0.15);\n",
              "      filter: drop-shadow(0px 1px 2px rgba(0, 0, 0, 0.3));\n",
              "      fill: #FFFFFF;\n",
              "    }\n",
              "  </style>\n",
              "\n",
              "      <script>\n",
              "        const buttonEl =\n",
              "          document.querySelector('#df-2647ed72-ba7d-4c61-b12d-559c14583530 button.colab-df-convert');\n",
              "        buttonEl.style.display =\n",
              "          google.colab.kernel.accessAllowed ? 'block' : 'none';\n",
              "\n",
              "        async function convertToInteractive(key) {\n",
              "          const element = document.querySelector('#df-2647ed72-ba7d-4c61-b12d-559c14583530');\n",
              "          const dataTable =\n",
              "            await google.colab.kernel.invokeFunction('convertToInteractive',\n",
              "                                                     [key], {});\n",
              "          if (!dataTable) return;\n",
              "\n",
              "          const docLinkHtml = 'Like what you see? Visit the ' +\n",
              "            '<a target=\"_blank\" href=https://colab.research.google.com/notebooks/data_table.ipynb>data table notebook</a>'\n",
              "            + ' to learn more about interactive tables.';\n",
              "          element.innerHTML = '';\n",
              "          dataTable['output_type'] = 'display_data';\n",
              "          await google.colab.output.renderOutput(dataTable, element);\n",
              "          const docLink = document.createElement('div');\n",
              "          docLink.innerHTML = docLinkHtml;\n",
              "          element.appendChild(docLink);\n",
              "        }\n",
              "      </script>\n",
              "    </div>\n",
              "  </div>\n",
              "  "
            ]
          },
          "metadata": {},
          "execution_count": 5
        }
      ],
      "source": [
        "data = pd.DataFrame(bitcoin_data_prices, columns=['TimeStamp', 'Price'])\n",
        "data.head()"
      ]
    },
    {
      "cell_type": "code",
      "execution_count": 6,
      "metadata": {
        "id": "AGxLVpg5-SrG",
        "outputId": "2cf77505-abab-4c3e-fbf2-c0e48b060871",
        "colab": {
          "base_uri": "https://localhost:8080/"
        }
      },
      "outputs": [
        {
          "output_type": "stream",
          "name": "stdout",
          "text": [
            "0       2022-08-31\n",
            "1       2022-08-31\n",
            "2       2022-08-31\n",
            "3       2022-08-31\n",
            "4       2022-08-31\n",
            "           ...    \n",
            "2150    2022-11-29\n",
            "2151    2022-11-29\n",
            "2152    2022-11-29\n",
            "2153    2022-11-29\n",
            "2154    2022-11-29\n",
            "Name: date, Length: 2155, dtype: object\n"
          ]
        }
      ],
      "source": [
        "data['date'] = data['TimeStamp'].apply(lambda d: datetime.date.fromtimestamp(d/1000))\n",
        "print(data.date)"
      ]
    },
    {
      "cell_type": "code",
      "execution_count": 7,
      "metadata": {
        "id": "HXYAobMV-SrG",
        "outputId": "e5e5c865-3e4e-4e63-dd28-9ba0b054c25b",
        "colab": {
          "base_uri": "https://localhost:8080/"
        }
      },
      "outputs": [
        {
          "output_type": "stream",
          "name": "stdout",
          "text": [
            "         date         Price                                          \n",
            "                        min           max         first          last\n",
            "0  2022-08-31  19984.336892  20219.717557  20163.537535  20164.626872\n",
            "1  2022-09-01  19632.460382  20121.599757  20021.143854  20081.735752\n",
            "2  2022-09-02  19825.516782  20385.757561  20141.167412  19962.185407\n",
            "3  2022-09-03  19748.722216  20017.062558  19963.427145  19819.666689\n",
            "4  2022-09-04  19704.095425  19920.195380  19814.564245  19838.028380\n"
          ]
        }
      ],
      "source": [
        "candlestick_data = data.groupby(data.date, as_index=False).agg({\"Price\": ['min', 'max', 'first', 'last']})\n",
        "print(candlestick_data.head(5))"
      ]
    },
    {
      "cell_type": "markdown",
      "metadata": {
        "id": "hWiUmhqs-SrG"
      },
      "source": [
        "<h2> 3. Data visualisation </h2> <a class=\"anchor\" id=\"three\"></a>"
      ]
    },
    {
      "cell_type": "markdown",
      "metadata": {
        "id": "E6NdhR-8-SrH"
      },
      "source": [
        "Let's make a first candlestick graph:"
      ]
    },
    {
      "cell_type": "code",
      "execution_count": 8,
      "metadata": {
        "id": "9Y_i49Kc-SrH",
        "outputId": "2dbd2259-dd0f-49af-a782-43bc4eda099e",
        "colab": {
          "base_uri": "https://localhost:8080/",
          "height": 542
        }
      },
      "outputs": [
        {
          "output_type": "display_data",
          "data": {
            "text/html": [
              "<html>\n",
              "<head><meta charset=\"utf-8\" /></head>\n",
              "<body>\n",
              "    <div>            <script src=\"https://cdnjs.cloudflare.com/ajax/libs/mathjax/2.7.5/MathJax.js?config=TeX-AMS-MML_SVG\"></script><script type=\"text/javascript\">if (window.MathJax) {MathJax.Hub.Config({SVG: {font: \"STIX-Web\"}});}</script>                <script type=\"text/javascript\">window.PlotlyConfig = {MathJaxConfig: 'local'};</script>\n",
              "        <script src=\"https://cdn.plot.ly/plotly-2.8.3.min.js\"></script>                <div id=\"4707fe19-585c-41ce-b85a-f6d6d6e75652\" class=\"plotly-graph-div\" style=\"height:525px; width:100%;\"></div>            <script type=\"text/javascript\">                                    window.PLOTLYENV=window.PLOTLYENV || {};                                    if (document.getElementById(\"4707fe19-585c-41ce-b85a-f6d6d6e75652\")) {                    Plotly.newPlot(                        \"4707fe19-585c-41ce-b85a-f6d6d6e75652\",                        [{\"close\":[20164.62687248048,20081.735752393888,19962.18540670306,19819.666688883863,19838.02838000253,19794.03708526795,18921.024355954687,19340.954892804522,19310.827707212924,21364.42881625773,21700.506218753544,21666.046561382085,22306.587583714398,20187.072462934208,20296.65495045268,19744.308143002712,19740.612796398564,20128.716177152077,19422.59394859203,19610.73981971188,18952.908563798796,18424.697746688696,19376.75478977833,19279.774244453452,18924.70305106518,18887.732676939828,19144.77470565531,19076.81976018465,19503.56327140162,19454.7614102958,19391.879627904444,19330.220067743423,19209.797825763817,19534.233318971088,20281.6135942938,20163.361588378815,19922.671962564382,19457.308951251147,19369.08596022181,19431.764534258986,19139.30435088603,19046.649855944896,19169.4668694631,19416.431533390813,19154.821364062154,19072.122652041628,19331.759403141215,19502.8226459347,19322.35726645525,19134.547783482674,19024.33368591166,19185.608127888943,19202.461867913724,19631.765116538194,19350.700573130875,20036.39480045612,20771.826955711713,20275.98566411127,20609.96620765588,20731.806711867357,20547.99721067806,20478.088541185574,20455.575268730554,20064.629454699338,20189.266737292175,21170.67856684137,21336.302553557143,21146.593086888934,20568.999121646943,18520.299424533107,15974.288415279165,17822.058683159863,16938.103259894127,16831.06722498903,16441.150768995096,16436.629137493637,16898.266308137103,16571.94743116972,16717.80065833992,16671.949239570313,16749.81904501506,16308.812646583983,15759.21495702581,16176.97314581773,16530.49127394779,16601.992914953473,16562.69686632468,16423.189512843557,16595.111658703972,16228.741088491362,16399.358665409087],\"high\":[20219.71755747391,20121.599756698204,20385.757561178234,20017.062557851583,19920.195380243204,19991.922291728963,20055.02546048482,19358.963459849565,19356.632688270314,21364.42881625773,21700.506218753544,21774.051156897473,22423.59437711096,22534.613722181795,20408.345336243998,20238.823171784203,19877.977087031624,20128.716177152077,20129.877778640617,19610.73981971188,19546.409143501933,19721.930672889866,19376.75478977833,19475.02644198708,19309.223005327487,19133.18262593146,19274.61706259749,20296.069731592623,19643.088609833758,19583.86197614713,19868.778835731755,19476.92659600407,19351.99857157035,19622.60092433398,20346.28387064516,20345.398520106643,20420.507309657056,20042.5610462963,19529.940881167193,19538.645102325067,19505.90837096838,19201.583301663635,19187.53482170786,19417.047285905723,19872.748771742114,19204.30682173264,19334.63933843128,19601.539194645306,19660.63009146628,19330.455739126475,19305.345930702806,19217.74515555127,19226.74239657363,19631.765116538194,19574.824231840797,20295.75489657272,20866.243542173965,20850.067442123476,20706.415967131103,20924.818454854445,20875.130879046064,20736.443729567003,20633.422035907417,20592.47780777743,20368.683662258176,21234.3186113337,21417.69311311931,21311.192355995347,21011.162050344992,20630.391655820804,18595.475462325707,17892.36001260941,17594.923500278233,17080.215260565037,16903.961634132105,16988.28378838569,17044.682788091155,16971.477570910884,16717.80065833992,16945.238957407422,16749.81904501506,16734.223063376623,16304.07685562355,16232.919812409002,16622.990094437577,16753.6264666303,16605.799294851015,16650.140631394148,16597.834652245816,16470.200838940345,16527.845830387814],\"low\":[19984.336892382864,19632.460381752,19825.516782022358,19748.7222158202,19704.095425350646,19657.119800572724,18843.881247716556,18650.249852206176,19142.86383896073,19315.36528635933,21186.66238874573,21417.347666437636,21594.133225623027,20100.219821471135,19850.47671454887,19744.308143002712,19473.36978414912,19764.411712043777,19422.59394859203,18471.224601532595,18830.917030469813,18424.697746688696,18424.79471209442,18663.933121230413,18924.70305106518,18788.63304300814,18708.627349742623,18966.332120573814,18548.955955180456,19099.738777532904,19270.72112228172,19259.226437169706,19098.423917128508,19065.153837148988,19533.40872637393,19911.243635202813,19922.671962564382,19378.996314888107,19319.725713659474,19379.968763706278,19139.30435088603,18987.39456328482,19046.22520788986,18372.467618415467,19117.960836598,19072.122652041628,19072.780513358884,19180.102975640068,19164.164338002003,19099.33660469521,18976.640753676762,18788.33090984761,19122.754394367166,19136.440929811495,19260.457427469257,19278.628402980143,20095.152230674925,20275.98566411127,20143.64809310815,20591.241208098614,20547.99721067806,20283.290452136498,20364.853765535223,20064.629454699338,20090.561006693835,20210.912417111318,21150.315583912397,21146.593086888934,20568.999121646943,18234.413645553075,15964.951641687134,15742.444335961438,16635.021467229675,16670.45594413163,16409.05694280837,15931.386864071925,16581.79649537976,16475.449843515013,16473.582867086327,16596.31834360901,16612.085485128762,16308.812646583983,15665.728828858591,15700.60132213548,16209.596015309206,16542.108772805834,16400.96439275418,16423.189512843557,16465.292555082957,16143.627481211812,16184.670162734785],\"open\":[20163.5375347747,20021.14385357082,20141.16741175336,19963.42714522854,19814.5642451146,19991.922291728963,19774.581447860117,18859.500087680277,19280.62547645678,19315.36528635933,21373.0518826196,21707.38731931814,21741.569832995458,22338.565597628796,20177.75073928847,20238.823171784203,19706.118843195443,19764.411712043777,20129.877778640617,19440.93216955394,19546.409143501933,18874.85455696598,18527.801868254202,19447.840839850032,19309.223005327487,18936.69527506283,18809.41143933244,19219.727780656474,19116.331160710437,19443.686788008305,19563.765161776904,19476.92659600407,19316.655643484526,19065.153837148988,19619.194487312692,20345.398520106643,20161.830614985047,19949.051041418512,19504.713218861503,19419.398372249936,19435.52286156838,19142.694767392895,19060.702787263657,19152.894115946925,19387.465655359778,19194.643188187696,19072.780513358884,19274.21494495987,19557.895548868444,19330.455739126475,19134.242664465204,19068.872653807117,19173.28046885863,19203.86547117714,19574.824231840797,19316.94062294213,20095.152230674925,20774.247496426033,20278.36623205219,20591.241208098614,20800.70708772471,20623.871497040946,20494.60120983709,20489.646203160763,20162.980904822525,20210.912417111318,21150.315583912397,21282.985109422694,20921.822265010724,20600.322770476647,18562.353215089643,15742.444335961438,17594.923500278233,17080.215260565037,16797.98748257006,16344.342316001042,16645.828500283515,16890.52938386464,16689.39673273771,16718.361228055077,16707.022778986535,16711.873000389467,16304.07685562355,15794.327604914475,16225.09189957465,16633.46357404885,16605.799294851015,16521.12986806161,16465.292555082957,16459.149543755877,16222.49921096898],\"x\":[\"2022-08-31\",\"2022-09-01\",\"2022-09-02\",\"2022-09-03\",\"2022-09-04\",\"2022-09-05\",\"2022-09-06\",\"2022-09-07\",\"2022-09-08\",\"2022-09-09\",\"2022-09-10\",\"2022-09-11\",\"2022-09-12\",\"2022-09-13\",\"2022-09-14\",\"2022-09-15\",\"2022-09-16\",\"2022-09-17\",\"2022-09-18\",\"2022-09-19\",\"2022-09-20\",\"2022-09-21\",\"2022-09-22\",\"2022-09-23\",\"2022-09-24\",\"2022-09-25\",\"2022-09-26\",\"2022-09-27\",\"2022-09-28\",\"2022-09-29\",\"2022-09-30\",\"2022-10-01\",\"2022-10-02\",\"2022-10-03\",\"2022-10-04\",\"2022-10-05\",\"2022-10-06\",\"2022-10-07\",\"2022-10-08\",\"2022-10-09\",\"2022-10-10\",\"2022-10-11\",\"2022-10-12\",\"2022-10-13\",\"2022-10-14\",\"2022-10-15\",\"2022-10-16\",\"2022-10-17\",\"2022-10-18\",\"2022-10-19\",\"2022-10-20\",\"2022-10-21\",\"2022-10-22\",\"2022-10-23\",\"2022-10-24\",\"2022-10-25\",\"2022-10-26\",\"2022-10-27\",\"2022-10-28\",\"2022-10-29\",\"2022-10-30\",\"2022-10-31\",\"2022-11-01\",\"2022-11-02\",\"2022-11-03\",\"2022-11-04\",\"2022-11-05\",\"2022-11-06\",\"2022-11-07\",\"2022-11-08\",\"2022-11-09\",\"2022-11-10\",\"2022-11-11\",\"2022-11-12\",\"2022-11-13\",\"2022-11-14\",\"2022-11-15\",\"2022-11-16\",\"2022-11-17\",\"2022-11-18\",\"2022-11-19\",\"2022-11-20\",\"2022-11-21\",\"2022-11-22\",\"2022-11-23\",\"2022-11-24\",\"2022-11-25\",\"2022-11-26\",\"2022-11-27\",\"2022-11-28\",\"2022-11-29\"],\"type\":\"candlestick\"}],                        {\"template\":{\"data\":{\"bar\":[{\"error_x\":{\"color\":\"#2a3f5f\"},\"error_y\":{\"color\":\"#2a3f5f\"},\"marker\":{\"line\":{\"color\":\"#E5ECF6\",\"width\":0.5},\"pattern\":{\"fillmode\":\"overlay\",\"size\":10,\"solidity\":0.2}},\"type\":\"bar\"}],\"barpolar\":[{\"marker\":{\"line\":{\"color\":\"#E5ECF6\",\"width\":0.5},\"pattern\":{\"fillmode\":\"overlay\",\"size\":10,\"solidity\":0.2}},\"type\":\"barpolar\"}],\"carpet\":[{\"aaxis\":{\"endlinecolor\":\"#2a3f5f\",\"gridcolor\":\"white\",\"linecolor\":\"white\",\"minorgridcolor\":\"white\",\"startlinecolor\":\"#2a3f5f\"},\"baxis\":{\"endlinecolor\":\"#2a3f5f\",\"gridcolor\":\"white\",\"linecolor\":\"white\",\"minorgridcolor\":\"white\",\"startlinecolor\":\"#2a3f5f\"},\"type\":\"carpet\"}],\"choropleth\":[{\"colorbar\":{\"outlinewidth\":0,\"ticks\":\"\"},\"type\":\"choropleth\"}],\"contour\":[{\"colorbar\":{\"outlinewidth\":0,\"ticks\":\"\"},\"colorscale\":[[0.0,\"#0d0887\"],[0.1111111111111111,\"#46039f\"],[0.2222222222222222,\"#7201a8\"],[0.3333333333333333,\"#9c179e\"],[0.4444444444444444,\"#bd3786\"],[0.5555555555555556,\"#d8576b\"],[0.6666666666666666,\"#ed7953\"],[0.7777777777777778,\"#fb9f3a\"],[0.8888888888888888,\"#fdca26\"],[1.0,\"#f0f921\"]],\"type\":\"contour\"}],\"contourcarpet\":[{\"colorbar\":{\"outlinewidth\":0,\"ticks\":\"\"},\"type\":\"contourcarpet\"}],\"heatmap\":[{\"colorbar\":{\"outlinewidth\":0,\"ticks\":\"\"},\"colorscale\":[[0.0,\"#0d0887\"],[0.1111111111111111,\"#46039f\"],[0.2222222222222222,\"#7201a8\"],[0.3333333333333333,\"#9c179e\"],[0.4444444444444444,\"#bd3786\"],[0.5555555555555556,\"#d8576b\"],[0.6666666666666666,\"#ed7953\"],[0.7777777777777778,\"#fb9f3a\"],[0.8888888888888888,\"#fdca26\"],[1.0,\"#f0f921\"]],\"type\":\"heatmap\"}],\"heatmapgl\":[{\"colorbar\":{\"outlinewidth\":0,\"ticks\":\"\"},\"colorscale\":[[0.0,\"#0d0887\"],[0.1111111111111111,\"#46039f\"],[0.2222222222222222,\"#7201a8\"],[0.3333333333333333,\"#9c179e\"],[0.4444444444444444,\"#bd3786\"],[0.5555555555555556,\"#d8576b\"],[0.6666666666666666,\"#ed7953\"],[0.7777777777777778,\"#fb9f3a\"],[0.8888888888888888,\"#fdca26\"],[1.0,\"#f0f921\"]],\"type\":\"heatmapgl\"}],\"histogram\":[{\"marker\":{\"pattern\":{\"fillmode\":\"overlay\",\"size\":10,\"solidity\":0.2}},\"type\":\"histogram\"}],\"histogram2d\":[{\"colorbar\":{\"outlinewidth\":0,\"ticks\":\"\"},\"colorscale\":[[0.0,\"#0d0887\"],[0.1111111111111111,\"#46039f\"],[0.2222222222222222,\"#7201a8\"],[0.3333333333333333,\"#9c179e\"],[0.4444444444444444,\"#bd3786\"],[0.5555555555555556,\"#d8576b\"],[0.6666666666666666,\"#ed7953\"],[0.7777777777777778,\"#fb9f3a\"],[0.8888888888888888,\"#fdca26\"],[1.0,\"#f0f921\"]],\"type\":\"histogram2d\"}],\"histogram2dcontour\":[{\"colorbar\":{\"outlinewidth\":0,\"ticks\":\"\"},\"colorscale\":[[0.0,\"#0d0887\"],[0.1111111111111111,\"#46039f\"],[0.2222222222222222,\"#7201a8\"],[0.3333333333333333,\"#9c179e\"],[0.4444444444444444,\"#bd3786\"],[0.5555555555555556,\"#d8576b\"],[0.6666666666666666,\"#ed7953\"],[0.7777777777777778,\"#fb9f3a\"],[0.8888888888888888,\"#fdca26\"],[1.0,\"#f0f921\"]],\"type\":\"histogram2dcontour\"}],\"mesh3d\":[{\"colorbar\":{\"outlinewidth\":0,\"ticks\":\"\"},\"type\":\"mesh3d\"}],\"parcoords\":[{\"line\":{\"colorbar\":{\"outlinewidth\":0,\"ticks\":\"\"}},\"type\":\"parcoords\"}],\"pie\":[{\"automargin\":true,\"type\":\"pie\"}],\"scatter\":[{\"marker\":{\"colorbar\":{\"outlinewidth\":0,\"ticks\":\"\"}},\"type\":\"scatter\"}],\"scatter3d\":[{\"line\":{\"colorbar\":{\"outlinewidth\":0,\"ticks\":\"\"}},\"marker\":{\"colorbar\":{\"outlinewidth\":0,\"ticks\":\"\"}},\"type\":\"scatter3d\"}],\"scattercarpet\":[{\"marker\":{\"colorbar\":{\"outlinewidth\":0,\"ticks\":\"\"}},\"type\":\"scattercarpet\"}],\"scattergeo\":[{\"marker\":{\"colorbar\":{\"outlinewidth\":0,\"ticks\":\"\"}},\"type\":\"scattergeo\"}],\"scattergl\":[{\"marker\":{\"colorbar\":{\"outlinewidth\":0,\"ticks\":\"\"}},\"type\":\"scattergl\"}],\"scattermapbox\":[{\"marker\":{\"colorbar\":{\"outlinewidth\":0,\"ticks\":\"\"}},\"type\":\"scattermapbox\"}],\"scatterpolar\":[{\"marker\":{\"colorbar\":{\"outlinewidth\":0,\"ticks\":\"\"}},\"type\":\"scatterpolar\"}],\"scatterpolargl\":[{\"marker\":{\"colorbar\":{\"outlinewidth\":0,\"ticks\":\"\"}},\"type\":\"scatterpolargl\"}],\"scatterternary\":[{\"marker\":{\"colorbar\":{\"outlinewidth\":0,\"ticks\":\"\"}},\"type\":\"scatterternary\"}],\"surface\":[{\"colorbar\":{\"outlinewidth\":0,\"ticks\":\"\"},\"colorscale\":[[0.0,\"#0d0887\"],[0.1111111111111111,\"#46039f\"],[0.2222222222222222,\"#7201a8\"],[0.3333333333333333,\"#9c179e\"],[0.4444444444444444,\"#bd3786\"],[0.5555555555555556,\"#d8576b\"],[0.6666666666666666,\"#ed7953\"],[0.7777777777777778,\"#fb9f3a\"],[0.8888888888888888,\"#fdca26\"],[1.0,\"#f0f921\"]],\"type\":\"surface\"}],\"table\":[{\"cells\":{\"fill\":{\"color\":\"#EBF0F8\"},\"line\":{\"color\":\"white\"}},\"header\":{\"fill\":{\"color\":\"#C8D4E3\"},\"line\":{\"color\":\"white\"}},\"type\":\"table\"}]},\"layout\":{\"annotationdefaults\":{\"arrowcolor\":\"#2a3f5f\",\"arrowhead\":0,\"arrowwidth\":1},\"autotypenumbers\":\"strict\",\"coloraxis\":{\"colorbar\":{\"outlinewidth\":0,\"ticks\":\"\"}},\"colorscale\":{\"diverging\":[[0,\"#8e0152\"],[0.1,\"#c51b7d\"],[0.2,\"#de77ae\"],[0.3,\"#f1b6da\"],[0.4,\"#fde0ef\"],[0.5,\"#f7f7f7\"],[0.6,\"#e6f5d0\"],[0.7,\"#b8e186\"],[0.8,\"#7fbc41\"],[0.9,\"#4d9221\"],[1,\"#276419\"]],\"sequential\":[[0.0,\"#0d0887\"],[0.1111111111111111,\"#46039f\"],[0.2222222222222222,\"#7201a8\"],[0.3333333333333333,\"#9c179e\"],[0.4444444444444444,\"#bd3786\"],[0.5555555555555556,\"#d8576b\"],[0.6666666666666666,\"#ed7953\"],[0.7777777777777778,\"#fb9f3a\"],[0.8888888888888888,\"#fdca26\"],[1.0,\"#f0f921\"]],\"sequentialminus\":[[0.0,\"#0d0887\"],[0.1111111111111111,\"#46039f\"],[0.2222222222222222,\"#7201a8\"],[0.3333333333333333,\"#9c179e\"],[0.4444444444444444,\"#bd3786\"],[0.5555555555555556,\"#d8576b\"],[0.6666666666666666,\"#ed7953\"],[0.7777777777777778,\"#fb9f3a\"],[0.8888888888888888,\"#fdca26\"],[1.0,\"#f0f921\"]]},\"colorway\":[\"#636efa\",\"#EF553B\",\"#00cc96\",\"#ab63fa\",\"#FFA15A\",\"#19d3f3\",\"#FF6692\",\"#B6E880\",\"#FF97FF\",\"#FECB52\"],\"font\":{\"color\":\"#2a3f5f\"},\"geo\":{\"bgcolor\":\"white\",\"lakecolor\":\"white\",\"landcolor\":\"#E5ECF6\",\"showlakes\":true,\"showland\":true,\"subunitcolor\":\"white\"},\"hoverlabel\":{\"align\":\"left\"},\"hovermode\":\"closest\",\"mapbox\":{\"style\":\"light\"},\"paper_bgcolor\":\"white\",\"plot_bgcolor\":\"#E5ECF6\",\"polar\":{\"angularaxis\":{\"gridcolor\":\"white\",\"linecolor\":\"white\",\"ticks\":\"\"},\"bgcolor\":\"#E5ECF6\",\"radialaxis\":{\"gridcolor\":\"white\",\"linecolor\":\"white\",\"ticks\":\"\"}},\"scene\":{\"xaxis\":{\"backgroundcolor\":\"#E5ECF6\",\"gridcolor\":\"white\",\"gridwidth\":2,\"linecolor\":\"white\",\"showbackground\":true,\"ticks\":\"\",\"zerolinecolor\":\"white\"},\"yaxis\":{\"backgroundcolor\":\"#E5ECF6\",\"gridcolor\":\"white\",\"gridwidth\":2,\"linecolor\":\"white\",\"showbackground\":true,\"ticks\":\"\",\"zerolinecolor\":\"white\"},\"zaxis\":{\"backgroundcolor\":\"#E5ECF6\",\"gridcolor\":\"white\",\"gridwidth\":2,\"linecolor\":\"white\",\"showbackground\":true,\"ticks\":\"\",\"zerolinecolor\":\"white\"}},\"shapedefaults\":{\"line\":{\"color\":\"#2a3f5f\"}},\"ternary\":{\"aaxis\":{\"gridcolor\":\"white\",\"linecolor\":\"white\",\"ticks\":\"\"},\"baxis\":{\"gridcolor\":\"white\",\"linecolor\":\"white\",\"ticks\":\"\"},\"bgcolor\":\"#E5ECF6\",\"caxis\":{\"gridcolor\":\"white\",\"linecolor\":\"white\",\"ticks\":\"\"}},\"title\":{\"x\":0.05},\"xaxis\":{\"automargin\":true,\"gridcolor\":\"white\",\"linecolor\":\"white\",\"ticks\":\"\",\"title\":{\"standoff\":15},\"zerolinecolor\":\"white\",\"zerolinewidth\":2},\"yaxis\":{\"automargin\":true,\"gridcolor\":\"white\",\"linecolor\":\"white\",\"ticks\":\"\",\"title\":{\"standoff\":15},\"zerolinecolor\":\"white\",\"zerolinewidth\":2}}}},                        {\"responsive\": true}                    ).then(function(){\n",
              "                            \n",
              "var gd = document.getElementById('4707fe19-585c-41ce-b85a-f6d6d6e75652');\n",
              "var x = new MutationObserver(function (mutations, observer) {{\n",
              "        var display = window.getComputedStyle(gd).display;\n",
              "        if (!display || display === 'none') {{\n",
              "            console.log([gd, 'removed!']);\n",
              "            Plotly.purge(gd);\n",
              "            observer.disconnect();\n",
              "        }}\n",
              "}});\n",
              "\n",
              "// Listen for the removal of the full notebook cells\n",
              "var notebookContainer = gd.closest('#notebook-container');\n",
              "if (notebookContainer) {{\n",
              "    x.observe(notebookContainer, {childList: true});\n",
              "}}\n",
              "\n",
              "// Listen for the clearing of the current output cell\n",
              "var outputEl = gd.closest('.output');\n",
              "if (outputEl) {{\n",
              "    x.observe(outputEl, {childList: true});\n",
              "}}\n",
              "\n",
              "                        })                };                            </script>        </div>\n",
              "</body>\n",
              "</html>"
            ]
          },
          "metadata": {}
        }
      ],
      "source": [
        "fig = go.Figure(data=[go.Candlestick(x=candlestick_data['date'],\n",
        "                open=candlestick_data['Price']['first'], \n",
        "                high=candlestick_data['Price']['max'],\n",
        "                low=candlestick_data['Price']['min'], \n",
        "                close=candlestick_data['Price']['last'])])\n",
        "\n",
        "fig.show()"
      ]
    },
    {
      "cell_type": "markdown",
      "metadata": {
        "id": "aK3PCvRA-SrH"
      },
      "source": [
        "We will improve it a bit: get rid of the range slider, add a title, an axis title, add a 7-day moving average...."
      ]
    },
    {
      "cell_type": "code",
      "execution_count": 9,
      "metadata": {
        "id": "ZM6F739v-SrH",
        "outputId": "f5caa7b9-d0bb-4e7c-b187-0232b9160926",
        "colab": {
          "base_uri": "https://localhost:8080/",
          "height": 542
        }
      },
      "outputs": [
        {
          "output_type": "display_data",
          "data": {
            "text/html": [
              "<html>\n",
              "<head><meta charset=\"utf-8\" /></head>\n",
              "<body>\n",
              "    <div>            <script src=\"https://cdnjs.cloudflare.com/ajax/libs/mathjax/2.7.5/MathJax.js?config=TeX-AMS-MML_SVG\"></script><script type=\"text/javascript\">if (window.MathJax) {MathJax.Hub.Config({SVG: {font: \"STIX-Web\"}});}</script>                <script type=\"text/javascript\">window.PlotlyConfig = {MathJaxConfig: 'local'};</script>\n",
              "        <script src=\"https://cdn.plot.ly/plotly-2.8.3.min.js\"></script>                <div id=\"da925dff-fff6-46ae-a450-0d02c5f8b3d5\" class=\"plotly-graph-div\" style=\"height:525px; width:100%;\"></div>            <script type=\"text/javascript\">                                    window.PLOTLYENV=window.PLOTLYENV || {};                                    if (document.getElementById(\"da925dff-fff6-46ae-a450-0d02c5f8b3d5\")) {                    Plotly.newPlot(                        \"da925dff-fff6-46ae-a450-0d02c5f8b3d5\",                        [{\"close\":[20164.62687248048,20081.735752393888,19962.18540670306,19819.666688883863,19838.02838000253,19794.03708526795,18921.024355954687,19340.954892804522,19310.827707212924,21364.42881625773,21700.506218753544,21666.046561382085,22306.587583714398,20187.072462934208,20296.65495045268,19744.308143002712,19740.612796398564,20128.716177152077,19422.59394859203,19610.73981971188,18952.908563798796,18424.697746688696,19376.75478977833,19279.774244453452,18924.70305106518,18887.732676939828,19144.77470565531,19076.81976018465,19503.56327140162,19454.7614102958,19391.879627904444,19330.220067743423,19209.797825763817,19534.233318971088,20281.6135942938,20163.361588378815,19922.671962564382,19457.308951251147,19369.08596022181,19431.764534258986,19139.30435088603,19046.649855944896,19169.4668694631,19416.431533390813,19154.821364062154,19072.122652041628,19331.759403141215,19502.8226459347,19322.35726645525,19134.547783482674,19024.33368591166,19185.608127888943,19202.461867913724,19631.765116538194,19350.700573130875,20036.39480045612,20771.826955711713,20275.98566411127,20609.96620765588,20731.806711867357,20547.99721067806,20478.088541185574,20455.575268730554,20064.629454699338,20189.266737292175,21170.67856684137,21336.302553557143,21146.593086888934,20568.999121646943,18520.299424533107,15974.288415279165,17822.058683159863,16938.103259894127,16831.06722498903,16441.150768995096,16436.629137493637,16898.266308137103,16571.94743116972,16717.80065833992,16671.949239570313,16749.81904501506,16308.812646583983,15759.21495702581,16176.97314581773,16530.49127394779,16601.992914953473,16562.69686632468,16423.189512843557,16595.111658703972,16228.741088491362,16399.358665409087],\"high\":[20219.71755747391,20121.599756698204,20385.757561178234,20017.062557851583,19920.195380243204,19991.922291728963,20055.02546048482,19358.963459849565,19356.632688270314,21364.42881625773,21700.506218753544,21774.051156897473,22423.59437711096,22534.613722181795,20408.345336243998,20238.823171784203,19877.977087031624,20128.716177152077,20129.877778640617,19610.73981971188,19546.409143501933,19721.930672889866,19376.75478977833,19475.02644198708,19309.223005327487,19133.18262593146,19274.61706259749,20296.069731592623,19643.088609833758,19583.86197614713,19868.778835731755,19476.92659600407,19351.99857157035,19622.60092433398,20346.28387064516,20345.398520106643,20420.507309657056,20042.5610462963,19529.940881167193,19538.645102325067,19505.90837096838,19201.583301663635,19187.53482170786,19417.047285905723,19872.748771742114,19204.30682173264,19334.63933843128,19601.539194645306,19660.63009146628,19330.455739126475,19305.345930702806,19217.74515555127,19226.74239657363,19631.765116538194,19574.824231840797,20295.75489657272,20866.243542173965,20850.067442123476,20706.415967131103,20924.818454854445,20875.130879046064,20736.443729567003,20633.422035907417,20592.47780777743,20368.683662258176,21234.3186113337,21417.69311311931,21311.192355995347,21011.162050344992,20630.391655820804,18595.475462325707,17892.36001260941,17594.923500278233,17080.215260565037,16903.961634132105,16988.28378838569,17044.682788091155,16971.477570910884,16717.80065833992,16945.238957407422,16749.81904501506,16734.223063376623,16304.07685562355,16232.919812409002,16622.990094437577,16753.6264666303,16605.799294851015,16650.140631394148,16597.834652245816,16470.200838940345,16527.845830387814],\"low\":[19984.336892382864,19632.460381752,19825.516782022358,19748.7222158202,19704.095425350646,19657.119800572724,18843.881247716556,18650.249852206176,19142.86383896073,19315.36528635933,21186.66238874573,21417.347666437636,21594.133225623027,20100.219821471135,19850.47671454887,19744.308143002712,19473.36978414912,19764.411712043777,19422.59394859203,18471.224601532595,18830.917030469813,18424.697746688696,18424.79471209442,18663.933121230413,18924.70305106518,18788.63304300814,18708.627349742623,18966.332120573814,18548.955955180456,19099.738777532904,19270.72112228172,19259.226437169706,19098.423917128508,19065.153837148988,19533.40872637393,19911.243635202813,19922.671962564382,19378.996314888107,19319.725713659474,19379.968763706278,19139.30435088603,18987.39456328482,19046.22520788986,18372.467618415467,19117.960836598,19072.122652041628,19072.780513358884,19180.102975640068,19164.164338002003,19099.33660469521,18976.640753676762,18788.33090984761,19122.754394367166,19136.440929811495,19260.457427469257,19278.628402980143,20095.152230674925,20275.98566411127,20143.64809310815,20591.241208098614,20547.99721067806,20283.290452136498,20364.853765535223,20064.629454699338,20090.561006693835,20210.912417111318,21150.315583912397,21146.593086888934,20568.999121646943,18234.413645553075,15964.951641687134,15742.444335961438,16635.021467229675,16670.45594413163,16409.05694280837,15931.386864071925,16581.79649537976,16475.449843515013,16473.582867086327,16596.31834360901,16612.085485128762,16308.812646583983,15665.728828858591,15700.60132213548,16209.596015309206,16542.108772805834,16400.96439275418,16423.189512843557,16465.292555082957,16143.627481211812,16184.670162734785],\"open\":[20163.5375347747,20021.14385357082,20141.16741175336,19963.42714522854,19814.5642451146,19991.922291728963,19774.581447860117,18859.500087680277,19280.62547645678,19315.36528635933,21373.0518826196,21707.38731931814,21741.569832995458,22338.565597628796,20177.75073928847,20238.823171784203,19706.118843195443,19764.411712043777,20129.877778640617,19440.93216955394,19546.409143501933,18874.85455696598,18527.801868254202,19447.840839850032,19309.223005327487,18936.69527506283,18809.41143933244,19219.727780656474,19116.331160710437,19443.686788008305,19563.765161776904,19476.92659600407,19316.655643484526,19065.153837148988,19619.194487312692,20345.398520106643,20161.830614985047,19949.051041418512,19504.713218861503,19419.398372249936,19435.52286156838,19142.694767392895,19060.702787263657,19152.894115946925,19387.465655359778,19194.643188187696,19072.780513358884,19274.21494495987,19557.895548868444,19330.455739126475,19134.242664465204,19068.872653807117,19173.28046885863,19203.86547117714,19574.824231840797,19316.94062294213,20095.152230674925,20774.247496426033,20278.36623205219,20591.241208098614,20800.70708772471,20623.871497040946,20494.60120983709,20489.646203160763,20162.980904822525,20210.912417111318,21150.315583912397,21282.985109422694,20921.822265010724,20600.322770476647,18562.353215089643,15742.444335961438,17594.923500278233,17080.215260565037,16797.98748257006,16344.342316001042,16645.828500283515,16890.52938386464,16689.39673273771,16718.361228055077,16707.022778986535,16711.873000389467,16304.07685562355,15794.327604914475,16225.09189957465,16633.46357404885,16605.799294851015,16521.12986806161,16465.292555082957,16459.149543755877,16222.49921096898],\"x\":[\"2022-08-31\",\"2022-09-01\",\"2022-09-02\",\"2022-09-03\",\"2022-09-04\",\"2022-09-05\",\"2022-09-06\",\"2022-09-07\",\"2022-09-08\",\"2022-09-09\",\"2022-09-10\",\"2022-09-11\",\"2022-09-12\",\"2022-09-13\",\"2022-09-14\",\"2022-09-15\",\"2022-09-16\",\"2022-09-17\",\"2022-09-18\",\"2022-09-19\",\"2022-09-20\",\"2022-09-21\",\"2022-09-22\",\"2022-09-23\",\"2022-09-24\",\"2022-09-25\",\"2022-09-26\",\"2022-09-27\",\"2022-09-28\",\"2022-09-29\",\"2022-09-30\",\"2022-10-01\",\"2022-10-02\",\"2022-10-03\",\"2022-10-04\",\"2022-10-05\",\"2022-10-06\",\"2022-10-07\",\"2022-10-08\",\"2022-10-09\",\"2022-10-10\",\"2022-10-11\",\"2022-10-12\",\"2022-10-13\",\"2022-10-14\",\"2022-10-15\",\"2022-10-16\",\"2022-10-17\",\"2022-10-18\",\"2022-10-19\",\"2022-10-20\",\"2022-10-21\",\"2022-10-22\",\"2022-10-23\",\"2022-10-24\",\"2022-10-25\",\"2022-10-26\",\"2022-10-27\",\"2022-10-28\",\"2022-10-29\",\"2022-10-30\",\"2022-10-31\",\"2022-11-01\",\"2022-11-02\",\"2022-11-03\",\"2022-11-04\",\"2022-11-05\",\"2022-11-06\",\"2022-11-07\",\"2022-11-08\",\"2022-11-09\",\"2022-11-10\",\"2022-11-11\",\"2022-11-12\",\"2022-11-13\",\"2022-11-14\",\"2022-11-15\",\"2022-11-16\",\"2022-11-17\",\"2022-11-18\",\"2022-11-19\",\"2022-11-20\",\"2022-11-21\",\"2022-11-22\",\"2022-11-23\",\"2022-11-24\",\"2022-11-25\",\"2022-11-26\",\"2022-11-27\",\"2022-11-28\",\"2022-11-29\"],\"type\":\"candlestick\",\"name\":\"Candlesticks\"},{\"line\":{\"color\":\"#000000\"},\"name\":\"7-day moving average\",\"x\":[\"2022-08-31\",\"2022-09-01\",\"2022-09-02\",\"2022-09-03\",\"2022-09-04\",\"2022-09-05\",\"2022-09-06\",\"2022-09-07\",\"2022-09-08\",\"2022-09-09\",\"2022-09-10\",\"2022-09-11\",\"2022-09-12\",\"2022-09-13\",\"2022-09-14\",\"2022-09-15\",\"2022-09-16\",\"2022-09-17\",\"2022-09-18\",\"2022-09-19\",\"2022-09-20\",\"2022-09-21\",\"2022-09-22\",\"2022-09-23\",\"2022-09-24\",\"2022-09-25\",\"2022-09-26\",\"2022-09-27\",\"2022-09-28\",\"2022-09-29\",\"2022-09-30\",\"2022-10-01\",\"2022-10-02\",\"2022-10-03\",\"2022-10-04\",\"2022-10-05\",\"2022-10-06\",\"2022-10-07\",\"2022-10-08\",\"2022-10-09\",\"2022-10-10\",\"2022-10-11\",\"2022-10-12\",\"2022-10-13\",\"2022-10-14\",\"2022-10-15\",\"2022-10-16\",\"2022-10-17\",\"2022-10-18\",\"2022-10-19\",\"2022-10-20\",\"2022-10-21\",\"2022-10-22\",\"2022-10-23\",\"2022-10-24\",\"2022-10-25\",\"2022-10-26\",\"2022-10-27\",\"2022-10-28\",\"2022-10-29\",\"2022-10-30\",\"2022-10-31\",\"2022-11-01\",\"2022-11-02\",\"2022-11-03\",\"2022-11-04\",\"2022-11-05\",\"2022-11-06\",\"2022-11-07\",\"2022-11-08\",\"2022-11-09\",\"2022-11-10\",\"2022-11-11\",\"2022-11-12\",\"2022-11-13\",\"2022-11-14\",\"2022-11-15\",\"2022-11-16\",\"2022-11-17\",\"2022-11-18\",\"2022-11-19\",\"2022-11-20\",\"2022-11-21\",\"2022-11-22\",\"2022-11-23\",\"2022-11-24\",\"2022-11-25\",\"2022-11-26\",\"2022-11-27\",\"2022-11-28\",\"2022-11-29\"],\"y\":[null,null,null,19797.329220240925,19679.661794572927,19569.53207383279,19769.85256091203,20038.543922321987,20299.689376804778,20658.62516229713,20839.489177579915,20976.01775724394,21037.94353378534,20805.969816662597,20581.4283821481,20260.935151749523,19875.814042606307,19699.50491415839,19432.082456477823,19379.574834588624,19313.740755739324,19141.73888058405,19065.33012749088,18998.763682625657,19016.46528210935,19170.58892849691,19181.732731427976,19197.74778620669,19255.678788589295,19301.68809556415,19357.325040323547,19529.438445196283,19623.695347621597,19690.5397122314,19699.886758423785,19705.43902877784,19737.14855856286,19680.73013455071,19504.306743358007,19362.321783512907,19290.0017222024,19246.789209746825,19204.3658800068,19190.07943270426,19242.010617711214,19281.397390641265,19276.40894978692,19220.394971575613,19224.793080693726,19243.412968675453,19286.270927732163,19264.5392030459,19366.544565046028,19600.441589650174,19779.24901510726,19982.728740788258,20201.20657563877,20332.096874801613,20493.152298809426,20553.035222848626,20452.00700841829,20439.618590301277,20519.720355899208,20606.07690471203,20691.590601313586,20704.577827093777,20428.109849351287,19843.775415148404,19505.602835986647,18900.949220708466,18257.344173770165,17585.138128356764,16994.799559192,16763.080542564003,16848.46040197694,16690.709255574093,16652.68725267069,16641.080369817264,16622.174923758535,16525.401469405988,16422.359589074647,16416.437280900085,16399.893317559163,16384.285835666935,16337.624473928145,16378.524332802432,16445.59949444037,16477.368854381988,null,null,null],\"type\":\"scatter\"}],                        {\"template\":{\"data\":{\"barpolar\":[{\"marker\":{\"line\":{\"color\":\"white\",\"width\":0.5},\"pattern\":{\"fillmode\":\"overlay\",\"size\":10,\"solidity\":0.2}},\"type\":\"barpolar\"}],\"bar\":[{\"error_x\":{\"color\":\"rgb(36,36,36)\"},\"error_y\":{\"color\":\"rgb(36,36,36)\"},\"marker\":{\"line\":{\"color\":\"white\",\"width\":0.5},\"pattern\":{\"fillmode\":\"overlay\",\"size\":10,\"solidity\":0.2}},\"type\":\"bar\"}],\"carpet\":[{\"aaxis\":{\"endlinecolor\":\"rgb(36,36,36)\",\"gridcolor\":\"white\",\"linecolor\":\"white\",\"minorgridcolor\":\"white\",\"startlinecolor\":\"rgb(36,36,36)\"},\"baxis\":{\"endlinecolor\":\"rgb(36,36,36)\",\"gridcolor\":\"white\",\"linecolor\":\"white\",\"minorgridcolor\":\"white\",\"startlinecolor\":\"rgb(36,36,36)\"},\"type\":\"carpet\"}],\"choropleth\":[{\"colorbar\":{\"outlinewidth\":1,\"tickcolor\":\"rgb(36,36,36)\",\"ticks\":\"outside\"},\"type\":\"choropleth\"}],\"contourcarpet\":[{\"colorbar\":{\"outlinewidth\":1,\"tickcolor\":\"rgb(36,36,36)\",\"ticks\":\"outside\"},\"type\":\"contourcarpet\"}],\"contour\":[{\"colorbar\":{\"outlinewidth\":1,\"tickcolor\":\"rgb(36,36,36)\",\"ticks\":\"outside\"},\"colorscale\":[[0.0,\"#440154\"],[0.1111111111111111,\"#482878\"],[0.2222222222222222,\"#3e4989\"],[0.3333333333333333,\"#31688e\"],[0.4444444444444444,\"#26828e\"],[0.5555555555555556,\"#1f9e89\"],[0.6666666666666666,\"#35b779\"],[0.7777777777777778,\"#6ece58\"],[0.8888888888888888,\"#b5de2b\"],[1.0,\"#fde725\"]],\"type\":\"contour\"}],\"heatmapgl\":[{\"colorbar\":{\"outlinewidth\":1,\"tickcolor\":\"rgb(36,36,36)\",\"ticks\":\"outside\"},\"colorscale\":[[0.0,\"#440154\"],[0.1111111111111111,\"#482878\"],[0.2222222222222222,\"#3e4989\"],[0.3333333333333333,\"#31688e\"],[0.4444444444444444,\"#26828e\"],[0.5555555555555556,\"#1f9e89\"],[0.6666666666666666,\"#35b779\"],[0.7777777777777778,\"#6ece58\"],[0.8888888888888888,\"#b5de2b\"],[1.0,\"#fde725\"]],\"type\":\"heatmapgl\"}],\"heatmap\":[{\"colorbar\":{\"outlinewidth\":1,\"tickcolor\":\"rgb(36,36,36)\",\"ticks\":\"outside\"},\"colorscale\":[[0.0,\"#440154\"],[0.1111111111111111,\"#482878\"],[0.2222222222222222,\"#3e4989\"],[0.3333333333333333,\"#31688e\"],[0.4444444444444444,\"#26828e\"],[0.5555555555555556,\"#1f9e89\"],[0.6666666666666666,\"#35b779\"],[0.7777777777777778,\"#6ece58\"],[0.8888888888888888,\"#b5de2b\"],[1.0,\"#fde725\"]],\"type\":\"heatmap\"}],\"histogram2dcontour\":[{\"colorbar\":{\"outlinewidth\":1,\"tickcolor\":\"rgb(36,36,36)\",\"ticks\":\"outside\"},\"colorscale\":[[0.0,\"#440154\"],[0.1111111111111111,\"#482878\"],[0.2222222222222222,\"#3e4989\"],[0.3333333333333333,\"#31688e\"],[0.4444444444444444,\"#26828e\"],[0.5555555555555556,\"#1f9e89\"],[0.6666666666666666,\"#35b779\"],[0.7777777777777778,\"#6ece58\"],[0.8888888888888888,\"#b5de2b\"],[1.0,\"#fde725\"]],\"type\":\"histogram2dcontour\"}],\"histogram2d\":[{\"colorbar\":{\"outlinewidth\":1,\"tickcolor\":\"rgb(36,36,36)\",\"ticks\":\"outside\"},\"colorscale\":[[0.0,\"#440154\"],[0.1111111111111111,\"#482878\"],[0.2222222222222222,\"#3e4989\"],[0.3333333333333333,\"#31688e\"],[0.4444444444444444,\"#26828e\"],[0.5555555555555556,\"#1f9e89\"],[0.6666666666666666,\"#35b779\"],[0.7777777777777778,\"#6ece58\"],[0.8888888888888888,\"#b5de2b\"],[1.0,\"#fde725\"]],\"type\":\"histogram2d\"}],\"histogram\":[{\"marker\":{\"line\":{\"color\":\"white\",\"width\":0.6}},\"type\":\"histogram\"}],\"mesh3d\":[{\"colorbar\":{\"outlinewidth\":1,\"tickcolor\":\"rgb(36,36,36)\",\"ticks\":\"outside\"},\"type\":\"mesh3d\"}],\"parcoords\":[{\"line\":{\"colorbar\":{\"outlinewidth\":1,\"tickcolor\":\"rgb(36,36,36)\",\"ticks\":\"outside\"}},\"type\":\"parcoords\"}],\"pie\":[{\"automargin\":true,\"type\":\"pie\"}],\"scatter3d\":[{\"line\":{\"colorbar\":{\"outlinewidth\":1,\"tickcolor\":\"rgb(36,36,36)\",\"ticks\":\"outside\"}},\"marker\":{\"colorbar\":{\"outlinewidth\":1,\"tickcolor\":\"rgb(36,36,36)\",\"ticks\":\"outside\"}},\"type\":\"scatter3d\"}],\"scattercarpet\":[{\"marker\":{\"colorbar\":{\"outlinewidth\":1,\"tickcolor\":\"rgb(36,36,36)\",\"ticks\":\"outside\"}},\"type\":\"scattercarpet\"}],\"scattergeo\":[{\"marker\":{\"colorbar\":{\"outlinewidth\":1,\"tickcolor\":\"rgb(36,36,36)\",\"ticks\":\"outside\"}},\"type\":\"scattergeo\"}],\"scattergl\":[{\"marker\":{\"colorbar\":{\"outlinewidth\":1,\"tickcolor\":\"rgb(36,36,36)\",\"ticks\":\"outside\"}},\"type\":\"scattergl\"}],\"scattermapbox\":[{\"marker\":{\"colorbar\":{\"outlinewidth\":1,\"tickcolor\":\"rgb(36,36,36)\",\"ticks\":\"outside\"}},\"type\":\"scattermapbox\"}],\"scatterpolargl\":[{\"marker\":{\"colorbar\":{\"outlinewidth\":1,\"tickcolor\":\"rgb(36,36,36)\",\"ticks\":\"outside\"}},\"type\":\"scatterpolargl\"}],\"scatterpolar\":[{\"marker\":{\"colorbar\":{\"outlinewidth\":1,\"tickcolor\":\"rgb(36,36,36)\",\"ticks\":\"outside\"}},\"type\":\"scatterpolar\"}],\"scatter\":[{\"marker\":{\"colorbar\":{\"outlinewidth\":1,\"tickcolor\":\"rgb(36,36,36)\",\"ticks\":\"outside\"}},\"type\":\"scatter\"}],\"scatterternary\":[{\"marker\":{\"colorbar\":{\"outlinewidth\":1,\"tickcolor\":\"rgb(36,36,36)\",\"ticks\":\"outside\"}},\"type\":\"scatterternary\"}],\"surface\":[{\"colorbar\":{\"outlinewidth\":1,\"tickcolor\":\"rgb(36,36,36)\",\"ticks\":\"outside\"},\"colorscale\":[[0.0,\"#440154\"],[0.1111111111111111,\"#482878\"],[0.2222222222222222,\"#3e4989\"],[0.3333333333333333,\"#31688e\"],[0.4444444444444444,\"#26828e\"],[0.5555555555555556,\"#1f9e89\"],[0.6666666666666666,\"#35b779\"],[0.7777777777777778,\"#6ece58\"],[0.8888888888888888,\"#b5de2b\"],[1.0,\"#fde725\"]],\"type\":\"surface\"}],\"table\":[{\"cells\":{\"fill\":{\"color\":\"rgb(237,237,237)\"},\"line\":{\"color\":\"white\"}},\"header\":{\"fill\":{\"color\":\"rgb(217,217,217)\"},\"line\":{\"color\":\"white\"}},\"type\":\"table\"}]},\"layout\":{\"annotationdefaults\":{\"arrowhead\":0,\"arrowwidth\":1},\"autotypenumbers\":\"strict\",\"coloraxis\":{\"colorbar\":{\"outlinewidth\":1,\"tickcolor\":\"rgb(36,36,36)\",\"ticks\":\"outside\"}},\"colorscale\":{\"diverging\":[[0.0,\"rgb(103,0,31)\"],[0.1,\"rgb(178,24,43)\"],[0.2,\"rgb(214,96,77)\"],[0.3,\"rgb(244,165,130)\"],[0.4,\"rgb(253,219,199)\"],[0.5,\"rgb(247,247,247)\"],[0.6,\"rgb(209,229,240)\"],[0.7,\"rgb(146,197,222)\"],[0.8,\"rgb(67,147,195)\"],[0.9,\"rgb(33,102,172)\"],[1.0,\"rgb(5,48,97)\"]],\"sequential\":[[0.0,\"#440154\"],[0.1111111111111111,\"#482878\"],[0.2222222222222222,\"#3e4989\"],[0.3333333333333333,\"#31688e\"],[0.4444444444444444,\"#26828e\"],[0.5555555555555556,\"#1f9e89\"],[0.6666666666666666,\"#35b779\"],[0.7777777777777778,\"#6ece58\"],[0.8888888888888888,\"#b5de2b\"],[1.0,\"#fde725\"]],\"sequentialminus\":[[0.0,\"#440154\"],[0.1111111111111111,\"#482878\"],[0.2222222222222222,\"#3e4989\"],[0.3333333333333333,\"#31688e\"],[0.4444444444444444,\"#26828e\"],[0.5555555555555556,\"#1f9e89\"],[0.6666666666666666,\"#35b779\"],[0.7777777777777778,\"#6ece58\"],[0.8888888888888888,\"#b5de2b\"],[1.0,\"#fde725\"]]},\"colorway\":[\"#1F77B4\",\"#FF7F0E\",\"#2CA02C\",\"#D62728\",\"#9467BD\",\"#8C564B\",\"#E377C2\",\"#7F7F7F\",\"#BCBD22\",\"#17BECF\"],\"font\":{\"color\":\"rgb(36,36,36)\"},\"geo\":{\"bgcolor\":\"white\",\"lakecolor\":\"white\",\"landcolor\":\"white\",\"showlakes\":true,\"showland\":true,\"subunitcolor\":\"white\"},\"hoverlabel\":{\"align\":\"left\"},\"hovermode\":\"closest\",\"mapbox\":{\"style\":\"light\"},\"paper_bgcolor\":\"white\",\"plot_bgcolor\":\"white\",\"polar\":{\"angularaxis\":{\"gridcolor\":\"rgb(232,232,232)\",\"linecolor\":\"rgb(36,36,36)\",\"showgrid\":false,\"showline\":true,\"ticks\":\"outside\"},\"bgcolor\":\"white\",\"radialaxis\":{\"gridcolor\":\"rgb(232,232,232)\",\"linecolor\":\"rgb(36,36,36)\",\"showgrid\":false,\"showline\":true,\"ticks\":\"outside\"}},\"scene\":{\"xaxis\":{\"backgroundcolor\":\"white\",\"gridcolor\":\"rgb(232,232,232)\",\"gridwidth\":2,\"linecolor\":\"rgb(36,36,36)\",\"showbackground\":true,\"showgrid\":false,\"showline\":true,\"ticks\":\"outside\",\"zeroline\":false,\"zerolinecolor\":\"rgb(36,36,36)\"},\"yaxis\":{\"backgroundcolor\":\"white\",\"gridcolor\":\"rgb(232,232,232)\",\"gridwidth\":2,\"linecolor\":\"rgb(36,36,36)\",\"showbackground\":true,\"showgrid\":false,\"showline\":true,\"ticks\":\"outside\",\"zeroline\":false,\"zerolinecolor\":\"rgb(36,36,36)\"},\"zaxis\":{\"backgroundcolor\":\"white\",\"gridcolor\":\"rgb(232,232,232)\",\"gridwidth\":2,\"linecolor\":\"rgb(36,36,36)\",\"showbackground\":true,\"showgrid\":false,\"showline\":true,\"ticks\":\"outside\",\"zeroline\":false,\"zerolinecolor\":\"rgb(36,36,36)\"}},\"shapedefaults\":{\"fillcolor\":\"black\",\"line\":{\"width\":0},\"opacity\":0.3},\"ternary\":{\"aaxis\":{\"gridcolor\":\"rgb(232,232,232)\",\"linecolor\":\"rgb(36,36,36)\",\"showgrid\":false,\"showline\":true,\"ticks\":\"outside\"},\"baxis\":{\"gridcolor\":\"rgb(232,232,232)\",\"linecolor\":\"rgb(36,36,36)\",\"showgrid\":false,\"showline\":true,\"ticks\":\"outside\"},\"bgcolor\":\"white\",\"caxis\":{\"gridcolor\":\"rgb(232,232,232)\",\"linecolor\":\"rgb(36,36,36)\",\"showgrid\":false,\"showline\":true,\"ticks\":\"outside\"}},\"title\":{\"x\":0.05},\"xaxis\":{\"automargin\":true,\"gridcolor\":\"rgb(232,232,232)\",\"linecolor\":\"rgb(36,36,36)\",\"showgrid\":false,\"showline\":true,\"ticks\":\"outside\",\"title\":{\"standoff\":15},\"zeroline\":false,\"zerolinecolor\":\"rgb(36,36,36)\"},\"yaxis\":{\"automargin\":true,\"gridcolor\":\"rgb(232,232,232)\",\"linecolor\":\"rgb(36,36,36)\",\"showgrid\":false,\"showline\":true,\"ticks\":\"outside\",\"title\":{\"standoff\":15},\"zeroline\":false,\"zerolinecolor\":\"rgb(36,36,36)\"}}},\"xaxis\":{\"rangeslider\":{\"visible\":false}},\"legend\":{\"orientation\":\"h\",\"yanchor\":\"bottom\",\"y\":1.02,\"xanchor\":\"center\",\"x\":0.5},\"title\":{\"text\":\"Evolution of bitcoin price (in USD) in the last 90 days\"},\"yaxis\":{\"title\":{\"text\":\"USD\"}}},                        {\"responsive\": true}                    ).then(function(){\n",
              "                            \n",
              "var gd = document.getElementById('da925dff-fff6-46ae-a450-0d02c5f8b3d5');\n",
              "var x = new MutationObserver(function (mutations, observer) {{\n",
              "        var display = window.getComputedStyle(gd).display;\n",
              "        if (!display || display === 'none') {{\n",
              "            console.log([gd, 'removed!']);\n",
              "            Plotly.purge(gd);\n",
              "            observer.disconnect();\n",
              "        }}\n",
              "}});\n",
              "\n",
              "// Listen for the removal of the full notebook cells\n",
              "var notebookContainer = gd.closest('#notebook-container');\n",
              "if (notebookContainer) {{\n",
              "    x.observe(notebookContainer, {childList: true});\n",
              "}}\n",
              "\n",
              "// Listen for the clearing of the current output cell\n",
              "var outputEl = gd.closest('.output');\n",
              "if (outputEl) {{\n",
              "    x.observe(outputEl, {childList: true});\n",
              "}}\n",
              "\n",
              "                        })                };                            </script>        </div>\n",
              "</body>\n",
              "</html>"
            ]
          },
          "metadata": {}
        }
      ],
      "source": [
        "candlestick_data['7dma'] = candlestick_data['Price']['last'].rolling(window = 7,center = True).mean()\n",
        "\n",
        "fig.update_layout(xaxis_rangeslider_visible=False, \n",
        "template = \"simple_white\", \n",
        "title = \"Evolution of bitcoin price (in USD) in the last 90 days\", \n",
        "yaxis_title = \"USD\",\n",
        "legend=dict(\n",
        "    orientation=\"h\",\n",
        "    yanchor=\"bottom\",\n",
        "    y=1.02,\n",
        "    xanchor=\"center\",\n",
        "    x=0.5\n",
        "))\n",
        "\n",
        "fig.data[0].name=\"Candlesticks\"\n",
        "\n",
        "fig.add_trace(go.Scatter(x = candlestick_data['date'], \n",
        "    y = candlestick_data['7dma'],\n",
        "    line = dict(color = \"#000000\"),\n",
        "    name = \"7-day moving average\"))\n",
        "fig.show()"
      ]
    },
    {
      "cell_type": "markdown",
      "metadata": {
        "id": "zUYVfS7e-SrI"
      },
      "source": [
        "Et voilà :) ! \n",
        "\n",
        "We learn to retrieve data using CoinGecko API, to prepare and aggregate the data using pandas, and to visualise it using plotly. "
      ]
    }
  ],
  "metadata": {
    "kernelspec": {
      "display_name": "Python 3.9.12 ('base': conda)",
      "language": "python",
      "name": "python3"
    },
    "language_info": {
      "codemirror_mode": {
        "name": "ipython",
        "version": 3
      },
      "file_extension": ".py",
      "mimetype": "text/x-python",
      "name": "python",
      "nbconvert_exporter": "python",
      "pygments_lexer": "ipython3",
      "version": "3.9.12"
    },
    "orig_nbformat": 4,
    "vscode": {
      "interpreter": {
        "hash": "6dfc145827ab0f58a7a1474a0011303d8d42630ba263253b37e9a43e58dcb3ec"
      }
    },
    "colab": {
      "provenance": []
    }
  },
  "nbformat": 4,
  "nbformat_minor": 0
}