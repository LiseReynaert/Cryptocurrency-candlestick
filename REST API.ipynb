{
 "cells": [
  {
   "cell_type": "markdown",
   "metadata": {},
   "source": [
    "# [Python] Crypto: REST API & candlestick graph"
   ]
  },
  {
   "cell_type": "markdown",
   "metadata": {},
   "source": [
    "Hello :) !\n",
    "\n",
    "In this exercise, we use the <a href=\"https://www.coingecko.com/en/api?utm_medium=Exinfluencer&utm_source=Exinfluencer&utm_content=000026UJ&utm_term=10006555&utm_id=NA-SkillsNetwork-Channel-SkillsNetworkCoursesIBMDeveloperSkillsNetworkPY0101ENSkillsNetwork19487395-2022-01-01\">CoinGecko API</a> to create interactive candlestick graphs for Bitcoin with Plotly.\n",
    "\n",
    "I will use the API to get the price data for 90 days with 24 observation per day, 1 per hour. We will find the max, min, open, and close price per day meaning we will have 90 candlesticks and use that to generate the candlestick graph. We will add a 7-day moving average.\n",
    "\n",
    "The Python client/wrapper for the API called <a href=\"https://github.com/man-c/pycoingecko?utm_medium=Exinfluencer&utm_source=Exinfluencer&utm_content=000026UJ&utm_term=10006555&utm_id=NA-SkillsNetwork-Channel-SkillsNetworkCoursesIBMDeveloperSkillsNetworkPY0101ENSkillsNetwork19487395-2022-01-01\">PyCoinGecko</a>  will make the requests easing to make.\n",
    "\n",
    "## Table of contents:\n",
    "* [Settings](#zero)\n",
    "* [Data collection](#one)\n",
    "* [Wrangling](#two)\n",
    "* [Visualisation](#three)\n"
   ]
  },
  {
   "cell_type": "markdown",
   "metadata": {},
   "source": [
    "<h2> 0. Settings </h2>  <a class=\"anchor\" id=\"zero\"></a>"
   ]
  },
  {
   "cell_type": "code",
   "execution_count": null,
   "metadata": {},
   "outputs": [],
   "source": [
    "!pip install pycoingecko\n",
    "!pip install plotly\n",
    "!pip install mplfinance"
   ]
  },
  {
   "cell_type": "code",
   "execution_count": 21,
   "metadata": {},
   "outputs": [],
   "source": [
    "import pandas as pd\n",
    "#import numpy as np\n",
    "import plotly.graph_objects as go\n",
    "from plotly.offline import plot\n",
    "import matplotlib.pyplot as plt\n",
    "import datetime\n",
    "from pycoingecko import CoinGeckoAPI\n",
    "from mplfinance.original_flavor import candlestick2_ohlc"
   ]
  },
  {
   "cell_type": "markdown",
   "metadata": {},
   "source": [
    "<h2> 1. Data collection </h2> <a class=\"anchor\" id=\"one\"></a>"
   ]
  },
  {
   "cell_type": "markdown",
   "metadata": {},
   "source": [
    "Let's collect the data we need !\n",
    "\n",
    "Using the <code>get_coin_market_chart_by_id(id, vs_currency, days)</code>. <code>id</code> is the name of the coin you want, <code>vs_currency</code> is the currency you want the price in, and <code>days</code> is how many days back from today you want."
   ]
  },
  {
   "cell_type": "code",
   "execution_count": 72,
   "metadata": {},
   "outputs": [],
   "source": [
    "cg = CoinGeckoAPI()\n",
    "\n",
    "bitcoin_data = cg.get_coin_market_chart_by_id(id='bitcoin', vs_currency='usd', days=90)"
   ]
  },
  {
   "cell_type": "markdown",
   "metadata": {},
   "source": [
    "bitcoin_data is a JSON, and includes the price, market caps, and total volumes along with timestamps. \n",
    "\n",
    "We focus on the prices:"
   ]
  },
  {
   "cell_type": "code",
   "execution_count": 73,
   "metadata": {},
   "outputs": [
    {
     "name": "stdout",
     "output_type": "stream",
     "text": [
      "[[1656072050776, 21166.18246916643], [1656075667232, 21197.282092934343], [1656079316105, 21287.049699605162], [1656082891427, 21107.39240252371], [1656086448394, 20890.068373677685], [1656090143060, 21029.17051256745], [1656093700728, 20994.23186749934], [1656097323787, 21136.46103986765], [1656100851292, 21241.45068568767], [1656104514766, 21209.320784739168]]\n"
     ]
    }
   ],
   "source": [
    "bitcoin_data_prices = bitcoin_data['prices']\n",
    "print(bitcoin_data_prices[0:10])"
   ]
  },
  {
   "cell_type": "markdown",
   "metadata": {},
   "source": [
    "<h2> 2. Data wrangling </h2> <a class=\"anchor\" id=\"two\"></a>"
   ]
  },
  {
   "cell_type": "markdown",
   "metadata": {},
   "source": [
    "We convert the data into a pandas dataframe, and convert the TimeStamp into a readable datetime."
   ]
  },
  {
   "cell_type": "code",
   "execution_count": 74,
   "metadata": {},
   "outputs": [
    {
     "data": {
      "text/html": [
       "<div>\n",
       "<style scoped>\n",
       "    .dataframe tbody tr th:only-of-type {\n",
       "        vertical-align: middle;\n",
       "    }\n",
       "\n",
       "    .dataframe tbody tr th {\n",
       "        vertical-align: top;\n",
       "    }\n",
       "\n",
       "    .dataframe thead th {\n",
       "        text-align: right;\n",
       "    }\n",
       "</style>\n",
       "<table border=\"1\" class=\"dataframe\">\n",
       "  <thead>\n",
       "    <tr style=\"text-align: right;\">\n",
       "      <th></th>\n",
       "      <th>TimeStamp</th>\n",
       "      <th>Price</th>\n",
       "    </tr>\n",
       "  </thead>\n",
       "  <tbody>\n",
       "    <tr>\n",
       "      <th>0</th>\n",
       "      <td>1656072050776</td>\n",
       "      <td>21166.182469</td>\n",
       "    </tr>\n",
       "    <tr>\n",
       "      <th>1</th>\n",
       "      <td>1656075667232</td>\n",
       "      <td>21197.282093</td>\n",
       "    </tr>\n",
       "    <tr>\n",
       "      <th>2</th>\n",
       "      <td>1656079316105</td>\n",
       "      <td>21287.049700</td>\n",
       "    </tr>\n",
       "    <tr>\n",
       "      <th>3</th>\n",
       "      <td>1656082891427</td>\n",
       "      <td>21107.392403</td>\n",
       "    </tr>\n",
       "    <tr>\n",
       "      <th>4</th>\n",
       "      <td>1656086448394</td>\n",
       "      <td>20890.068374</td>\n",
       "    </tr>\n",
       "  </tbody>\n",
       "</table>\n",
       "</div>"
      ],
      "text/plain": [
       "       TimeStamp         Price\n",
       "0  1656072050776  21166.182469\n",
       "1  1656075667232  21197.282093\n",
       "2  1656079316105  21287.049700\n",
       "3  1656082891427  21107.392403\n",
       "4  1656086448394  20890.068374"
      ]
     },
     "execution_count": 74,
     "metadata": {},
     "output_type": "execute_result"
    }
   ],
   "source": [
    "data = pd.DataFrame(bitcoin_data_prices, columns=['TimeStamp', 'Price'])\n",
    "data.head()"
   ]
  },
  {
   "cell_type": "code",
   "execution_count": 77,
   "metadata": {},
   "outputs": [
    {
     "name": "stdout",
     "output_type": "stream",
     "text": [
      "0       2022-06-24\n",
      "1       2022-06-24\n",
      "2       2022-06-24\n",
      "3       2022-06-24\n",
      "4       2022-06-24\n",
      "           ...    \n",
      "2156    2022-09-22\n",
      "2157    2022-09-22\n",
      "2158    2022-09-22\n",
      "2159    2022-09-22\n",
      "2160    2022-09-22\n",
      "Name: date, Length: 2161, dtype: object\n"
     ]
    }
   ],
   "source": [
    "data['date'] = data['TimeStamp'].apply(lambda d: datetime.date.fromtimestamp(d/1000))\n",
    "print(data.date)"
   ]
  },
  {
   "cell_type": "code",
   "execution_count": 78,
   "metadata": {},
   "outputs": [
    {
     "name": "stdout",
     "output_type": "stream",
     "text": [
      "         date         Price                                          \n",
      "                        min           max         first          last\n",
      "0  2022-06-24  20890.068374  21287.049700  21166.182469  21209.320785\n",
      "1  2022-06-25  21052.234957  21501.718372  21325.243230  21233.424676\n",
      "2  2022-06-26  21236.769754  21637.931949  21498.410334  21378.457584\n",
      "3  2022-06-27  20741.872124  21475.850907  21389.480571  20926.490849\n",
      "4  2022-06-28  20275.064146  21108.771855  20831.206133  20297.896846\n"
     ]
    }
   ],
   "source": [
    "candlestick_data = data.groupby(data.date, as_index=False).agg({\"Price\": ['min', 'max', 'first', 'last']})\n",
    "print(candlestick_data.head(5))"
   ]
  },
  {
   "cell_type": "markdown",
   "metadata": {},
   "source": [
    "<h2> 3. Data visualisation </h2> <a class=\"anchor\" id=\"three\"></a>"
   ]
  },
  {
   "cell_type": "markdown",
   "metadata": {},
   "source": [
    "Let's make a first candlestick graph:"
   ]
  },
  {
   "cell_type": "code",
   "execution_count": 79,
   "metadata": {},
   "outputs": [
    {
     "data": {
      "application/vnd.plotly.v1+json": {
       "config": {
        "plotlyServerURL": "https://plot.ly"
       },
       "data": [
        {
         "close": [
          21209.320784739168,
          21233.424675510672,
          21378.457584431082,
          20926.490848896436,
          20297.89684606259,
          20212.845389658232,
          18817.428797534387,
          19509.698246013148,
          19271.764100980385,
          19459.125691946734,
          19794.826973251827,
          20493.56267855715,
          20439.18359558386,
          21612.607612001564,
          21871.75322905647,
          21701.203205432786,
          20988.859654709046,
          20467.165948528767,
          19432.2077295873,
          19678.422458477453,
          20643.70957065769,
          20935.132283530755,
          21112.946209610458,
          20940.404419270526,
          21504.880600626013,
          23240.388132797627,
          23187.031678056144,
          23265.31217258106,
          22660.541570206577,
          22320.487207017723,
          22764.874016953596,
          22156.316403235767,
          20979.658061702532,
          22768.113543806525,
          24096.39273536243,
          23928.444994505488,
          23969.065901890666,
          23822.836507103373,
          23000.87953630366,
          23001.32394626324,
          23353.15526502444,
          22569.498122092893,
          22975.426717494902,
          23184.24808221292,
          23272.417273311374,
          24077.6213212528,
          23225.483443665544,
          23858.790451645888,
          24219.942651915677,
          24191.222378302533,
          24526.566260019863,
          24333.650926373277,
          24031.54671364497,
          23955.02208136487,
          23422.759819847073,
          23425.86439909843,
          21262.356421650205,
          21047.789975739346,
          21579.772073284483,
          21144.244156109835,
          21497.218883531015,
          21709.466473820663,
          21665.204650135012,
          20678.31929485367,
          20006.281500036624,
          20035.84872799553,
          20171.11155820618,
          20019.52385931446,
          20206.78876713249,
          20036.981773263775,
          19931.183820400067,
          19748.7222158202,
          19907.085494202784,
          19771.453565888736,
          18962.156929539422,
          19309.202073222634,
          19356.632688270314,
          21289.222882790094,
          21415.84449790088,
          21577.7168121273,
          22399.936222361033,
          20310.327147269836,
          19970.81845984509,
          19797.074799868453,
          19757.443997676535,
          20083.48379465311,
          19734.715040825704,
          19549.679390282075,
          18987.000710466196,
          18924.909554764974,
          19085.174244304555
         ],
         "high": [
          21287.049699605162,
          21501.71837213869,
          21637.93194874606,
          21475.850906626994,
          21108.771855309027,
          20398.530481386562,
          20323.32348553218,
          20429.178978753695,
          19432.5476006028,
          19482.648523109194,
          19948.82595273913,
          20493.56267855715,
          20439.18359558386,
          21790.773518813978,
          22109.67363877527,
          21851.62314659787,
          21729.069959078217,
          21078.461007485323,
          20328.664022834084,
          19912.101239181808,
          20697.65730744682,
          21135.784032550167,
          21399.149590512203,
          21509.626028828054,
          22343.508744451945,
          23445.835506804622,
          24160.26051317441,
          23615.00126368033,
          23665.847268253943,
          22913.847008028315,
          22818.98164988223,
          22860.15456315955,
          22093.497347624514,
          22771.270843145114,
          24096.39273536243,
          24111.642706055765,
          24581.147996301323,
          23941.571252496764,
          23603.763247155497,
          23412.928605120822,
          23561.825256339675,
          23329.23241864078,
          23426.863032781774,
          23289.635614459137,
          23272.417273311374,
          24185.790367799396,
          23922.088571506163,
          24058.48718001248,
          24750.869105965743,
          24242.726709539424,
          24806.972862863026,
          24988.449475661626,
          24995.084223759943,
          24201.106463423406,
          24438.65114516452,
          23544.99659633802,
          23400.33134198729,
          21337.446249846336,
          21579.772073284483,
          21624.438126058663,
          21573.419189486187,
          21753.125073207593,
          21744.65371535301,
          21743.888984894827,
          20662.2003880511,
          20068.799454617034,
          20330.2844178171,
          20504.086104059224,
          20392.031630394245,
          20195.51908677015,
          20385.757561178234,
          20017.062557851583,
          19907.085494202784,
          19991.922291728963,
          20055.02546048482,
          19309.202073222634,
          19358.963459849565,
          21318.852776588657,
          21580.124111951085,
          21774.051156897473,
          22423.59437711096,
          22534.613722181795,
          20408.345336243998,
          20296.65495045268,
          19877.977087031624,
          20110.66411879399,
          20129.877778640617,
          19549.679390282075,
          19610.73981971188,
          19721.930672889866,
          19255.560738985212
         ],
         "low": [
          20890.068373677685,
          21052.234957037992,
          21236.76975398373,
          20741.872123533976,
          20275.064146099572,
          19958.85785017017,
          18817.428797534387,
          18891.797838893755,
          19109.36728283634,
          19015.70479020643,
          19106.023615759324,
          19420.07949592582,
          19885.77210297521,
          20347.039132249396,
          21293.230606876863,
          21511.65655197816,
          20828.123959221815,
          20402.976831119686,
          19432.2077295873,
          19113.688678973267,
          19748.348514149035,
          20435.357940523878,
          20522.749339726004,
          20935.72186429424,
          20802.939872166535,
          21702.15743148427,
          22993.315869564274,
          22524.740213750025,
          22648.696277101935,
          22067.867506426574,
          22292.19568398394,
          21803.164657544028,
          20783.38730581848,
          20945.99479959712,
          22682.579093735007,
          23562.502043879984,
          23753.06404760113,
          23653.459549430798,
          22916.219054614387,
          22754.248681980403,
          22778.669544609886,
          22526.435183639795,
          22555.159978032265,
          23152.80401737373,
          22935.020076158922,
          23197.603469525384,
          23033.520503040574,
          22826.073530150657,
          23927.586063607472,
          23687.14585329236,
          24153.31732524531,
          24306.625499799313,
          24001.62167238593,
          23748.937384747824,
          23310.441132681575,
          23283.007167550375,
          21262.356421650205,
          20945.8339660496,
          21089.34346469739,
          21014.941851712294,
          21027.824239483318,
          21210.506739067972,
          21393.11181642864,
          20664.237944991935,
          19962.011627384836,
          19920.04992305463,
          19659.24670619362,
          19621.977345816773,
          19810.92814167189,
          19632.460381752,
          19825.516782022358,
          19748.7222158202,
          19704.095425350646,
          19657.119800572724,
          18843.881247716556,
          18650.249852206176,
          19142.86383896073,
          19310.827707212924,
          21186.66238874573,
          21417.347666437636,
          21594.133225623027,
          20253.46331014825,
          19850.47671454887,
          19754.33385904475,
          19473.36978414912,
          19740.612796398564,
          19674.818580605563,
          18471.224601532595,
          18830.917030469813,
          18874.85455696598,
          18424.697746688696
         ],
         "open": [
          21166.18246916643,
          21325.24323022908,
          21498.410334444172,
          21389.480570807817,
          20831.20613286452,
          20398.530481386562,
          20323.32348553218,
          18891.797838893755,
          19432.5476006028,
          19378.141016164303,
          19305.319017338865,
          19942.643586891456,
          20360.731340849467,
          20347.961860498646,
          21650.057280687386,
          21777.87384201648,
          21729.069959078217,
          21078.461007485323,
          20328.664022834084,
          19469.02153566098,
          19871.55142565721,
          20487.414521882423,
          20952.99637132786,
          21232.890055531167,
          21004.01890464112,
          21702.15743148427,
          23654.858145187776,
          23615.00126368033,
          23216.702129125562,
          22750.711397194504,
          22292.19568398394,
          22789.404089591724,
          22093.497347624514,
          20945.99479959712,
          22682.579093735007,
          23894.595145068964,
          23801.2595433089,
          23941.571252496764,
          23603.763247155497,
          23024.727978517763,
          23073.917545949414,
          23329.23241864078,
          22555.159978032265,
          23152.80401737373,
          23191.557167588115,
          23326.974063756443,
          23868.383379107203,
          23211.524629817377,
          23947.125380871003,
          24129.803153214303,
          24153.31732524531,
          24513.0326931169,
          24376.724057770207,
          24036.232181401978,
          23951.680151237346,
          23353.223660718722,
          23400.33134198729,
          21149.761861231138,
          21089.34346469739,
          21563.34159908524,
          21095.017240500136,
          21488.194894542507,
          21682.126103207724,
          21612.162640166385,
          20657.160623596894,
          19920.602664836333,
          19993.987403138035,
          20198.676486041033,
          19897.547646945553,
          20195.51908677015,
          20082.831626022213,
          19976.971582470098,
          19764.93131960846,
          19920.195380243204,
          19745.13386495198,
          18973.986611975113,
          19358.963459849565,
          19346.505171499677,
          21328.391205663742,
          21611.291722302372,
          21625.30916872812,
          22360.688959782823,
          20100.219821471135,
          20195.581020961064,
          19832.497920528807,
          19776.587501387727,
          20060.921344057486,
          19528.583240156255,
          19549.62267526214,
          18936.29784696831,
          18469.79380196139
         ],
         "type": "candlestick",
         "x": [
          "2022-06-24",
          "2022-06-25",
          "2022-06-26",
          "2022-06-27",
          "2022-06-28",
          "2022-06-29",
          "2022-06-30",
          "2022-07-01",
          "2022-07-02",
          "2022-07-03",
          "2022-07-04",
          "2022-07-05",
          "2022-07-06",
          "2022-07-07",
          "2022-07-08",
          "2022-07-09",
          "2022-07-10",
          "2022-07-11",
          "2022-07-12",
          "2022-07-13",
          "2022-07-14",
          "2022-07-15",
          "2022-07-16",
          "2022-07-17",
          "2022-07-18",
          "2022-07-19",
          "2022-07-20",
          "2022-07-21",
          "2022-07-22",
          "2022-07-23",
          "2022-07-24",
          "2022-07-25",
          "2022-07-26",
          "2022-07-27",
          "2022-07-28",
          "2022-07-29",
          "2022-07-30",
          "2022-07-31",
          "2022-08-01",
          "2022-08-02",
          "2022-08-03",
          "2022-08-04",
          "2022-08-05",
          "2022-08-06",
          "2022-08-07",
          "2022-08-08",
          "2022-08-09",
          "2022-08-10",
          "2022-08-11",
          "2022-08-12",
          "2022-08-13",
          "2022-08-14",
          "2022-08-15",
          "2022-08-16",
          "2022-08-17",
          "2022-08-18",
          "2022-08-19",
          "2022-08-20",
          "2022-08-21",
          "2022-08-22",
          "2022-08-23",
          "2022-08-24",
          "2022-08-25",
          "2022-08-26",
          "2022-08-27",
          "2022-08-28",
          "2022-08-29",
          "2022-08-30",
          "2022-08-31",
          "2022-09-01",
          "2022-09-02",
          "2022-09-03",
          "2022-09-04",
          "2022-09-05",
          "2022-09-06",
          "2022-09-07",
          "2022-09-08",
          "2022-09-09",
          "2022-09-10",
          "2022-09-11",
          "2022-09-12",
          "2022-09-13",
          "2022-09-14",
          "2022-09-15",
          "2022-09-16",
          "2022-09-17",
          "2022-09-18",
          "2022-09-19",
          "2022-09-20",
          "2022-09-21",
          "2022-09-22"
         ]
        }
       ],
       "layout": {
        "template": {
         "data": {
          "bar": [
           {
            "error_x": {
             "color": "#2a3f5f"
            },
            "error_y": {
             "color": "#2a3f5f"
            },
            "marker": {
             "line": {
              "color": "#E5ECF6",
              "width": 0.5
             },
             "pattern": {
              "fillmode": "overlay",
              "size": 10,
              "solidity": 0.2
             }
            },
            "type": "bar"
           }
          ],
          "barpolar": [
           {
            "marker": {
             "line": {
              "color": "#E5ECF6",
              "width": 0.5
             },
             "pattern": {
              "fillmode": "overlay",
              "size": 10,
              "solidity": 0.2
             }
            },
            "type": "barpolar"
           }
          ],
          "carpet": [
           {
            "aaxis": {
             "endlinecolor": "#2a3f5f",
             "gridcolor": "white",
             "linecolor": "white",
             "minorgridcolor": "white",
             "startlinecolor": "#2a3f5f"
            },
            "baxis": {
             "endlinecolor": "#2a3f5f",
             "gridcolor": "white",
             "linecolor": "white",
             "minorgridcolor": "white",
             "startlinecolor": "#2a3f5f"
            },
            "type": "carpet"
           }
          ],
          "choropleth": [
           {
            "colorbar": {
             "outlinewidth": 0,
             "ticks": ""
            },
            "type": "choropleth"
           }
          ],
          "contour": [
           {
            "colorbar": {
             "outlinewidth": 0,
             "ticks": ""
            },
            "colorscale": [
             [
              0,
              "#0d0887"
             ],
             [
              0.1111111111111111,
              "#46039f"
             ],
             [
              0.2222222222222222,
              "#7201a8"
             ],
             [
              0.3333333333333333,
              "#9c179e"
             ],
             [
              0.4444444444444444,
              "#bd3786"
             ],
             [
              0.5555555555555556,
              "#d8576b"
             ],
             [
              0.6666666666666666,
              "#ed7953"
             ],
             [
              0.7777777777777778,
              "#fb9f3a"
             ],
             [
              0.8888888888888888,
              "#fdca26"
             ],
             [
              1,
              "#f0f921"
             ]
            ],
            "type": "contour"
           }
          ],
          "contourcarpet": [
           {
            "colorbar": {
             "outlinewidth": 0,
             "ticks": ""
            },
            "type": "contourcarpet"
           }
          ],
          "heatmap": [
           {
            "colorbar": {
             "outlinewidth": 0,
             "ticks": ""
            },
            "colorscale": [
             [
              0,
              "#0d0887"
             ],
             [
              0.1111111111111111,
              "#46039f"
             ],
             [
              0.2222222222222222,
              "#7201a8"
             ],
             [
              0.3333333333333333,
              "#9c179e"
             ],
             [
              0.4444444444444444,
              "#bd3786"
             ],
             [
              0.5555555555555556,
              "#d8576b"
             ],
             [
              0.6666666666666666,
              "#ed7953"
             ],
             [
              0.7777777777777778,
              "#fb9f3a"
             ],
             [
              0.8888888888888888,
              "#fdca26"
             ],
             [
              1,
              "#f0f921"
             ]
            ],
            "type": "heatmap"
           }
          ],
          "heatmapgl": [
           {
            "colorbar": {
             "outlinewidth": 0,
             "ticks": ""
            },
            "colorscale": [
             [
              0,
              "#0d0887"
             ],
             [
              0.1111111111111111,
              "#46039f"
             ],
             [
              0.2222222222222222,
              "#7201a8"
             ],
             [
              0.3333333333333333,
              "#9c179e"
             ],
             [
              0.4444444444444444,
              "#bd3786"
             ],
             [
              0.5555555555555556,
              "#d8576b"
             ],
             [
              0.6666666666666666,
              "#ed7953"
             ],
             [
              0.7777777777777778,
              "#fb9f3a"
             ],
             [
              0.8888888888888888,
              "#fdca26"
             ],
             [
              1,
              "#f0f921"
             ]
            ],
            "type": "heatmapgl"
           }
          ],
          "histogram": [
           {
            "marker": {
             "pattern": {
              "fillmode": "overlay",
              "size": 10,
              "solidity": 0.2
             }
            },
            "type": "histogram"
           }
          ],
          "histogram2d": [
           {
            "colorbar": {
             "outlinewidth": 0,
             "ticks": ""
            },
            "colorscale": [
             [
              0,
              "#0d0887"
             ],
             [
              0.1111111111111111,
              "#46039f"
             ],
             [
              0.2222222222222222,
              "#7201a8"
             ],
             [
              0.3333333333333333,
              "#9c179e"
             ],
             [
              0.4444444444444444,
              "#bd3786"
             ],
             [
              0.5555555555555556,
              "#d8576b"
             ],
             [
              0.6666666666666666,
              "#ed7953"
             ],
             [
              0.7777777777777778,
              "#fb9f3a"
             ],
             [
              0.8888888888888888,
              "#fdca26"
             ],
             [
              1,
              "#f0f921"
             ]
            ],
            "type": "histogram2d"
           }
          ],
          "histogram2dcontour": [
           {
            "colorbar": {
             "outlinewidth": 0,
             "ticks": ""
            },
            "colorscale": [
             [
              0,
              "#0d0887"
             ],
             [
              0.1111111111111111,
              "#46039f"
             ],
             [
              0.2222222222222222,
              "#7201a8"
             ],
             [
              0.3333333333333333,
              "#9c179e"
             ],
             [
              0.4444444444444444,
              "#bd3786"
             ],
             [
              0.5555555555555556,
              "#d8576b"
             ],
             [
              0.6666666666666666,
              "#ed7953"
             ],
             [
              0.7777777777777778,
              "#fb9f3a"
             ],
             [
              0.8888888888888888,
              "#fdca26"
             ],
             [
              1,
              "#f0f921"
             ]
            ],
            "type": "histogram2dcontour"
           }
          ],
          "mesh3d": [
           {
            "colorbar": {
             "outlinewidth": 0,
             "ticks": ""
            },
            "type": "mesh3d"
           }
          ],
          "parcoords": [
           {
            "line": {
             "colorbar": {
              "outlinewidth": 0,
              "ticks": ""
             }
            },
            "type": "parcoords"
           }
          ],
          "pie": [
           {
            "automargin": true,
            "type": "pie"
           }
          ],
          "scatter": [
           {
            "marker": {
             "colorbar": {
              "outlinewidth": 0,
              "ticks": ""
             }
            },
            "type": "scatter"
           }
          ],
          "scatter3d": [
           {
            "line": {
             "colorbar": {
              "outlinewidth": 0,
              "ticks": ""
             }
            },
            "marker": {
             "colorbar": {
              "outlinewidth": 0,
              "ticks": ""
             }
            },
            "type": "scatter3d"
           }
          ],
          "scattercarpet": [
           {
            "marker": {
             "colorbar": {
              "outlinewidth": 0,
              "ticks": ""
             }
            },
            "type": "scattercarpet"
           }
          ],
          "scattergeo": [
           {
            "marker": {
             "colorbar": {
              "outlinewidth": 0,
              "ticks": ""
             }
            },
            "type": "scattergeo"
           }
          ],
          "scattergl": [
           {
            "marker": {
             "colorbar": {
              "outlinewidth": 0,
              "ticks": ""
             }
            },
            "type": "scattergl"
           }
          ],
          "scattermapbox": [
           {
            "marker": {
             "colorbar": {
              "outlinewidth": 0,
              "ticks": ""
             }
            },
            "type": "scattermapbox"
           }
          ],
          "scatterpolar": [
           {
            "marker": {
             "colorbar": {
              "outlinewidth": 0,
              "ticks": ""
             }
            },
            "type": "scatterpolar"
           }
          ],
          "scatterpolargl": [
           {
            "marker": {
             "colorbar": {
              "outlinewidth": 0,
              "ticks": ""
             }
            },
            "type": "scatterpolargl"
           }
          ],
          "scatterternary": [
           {
            "marker": {
             "colorbar": {
              "outlinewidth": 0,
              "ticks": ""
             }
            },
            "type": "scatterternary"
           }
          ],
          "surface": [
           {
            "colorbar": {
             "outlinewidth": 0,
             "ticks": ""
            },
            "colorscale": [
             [
              0,
              "#0d0887"
             ],
             [
              0.1111111111111111,
              "#46039f"
             ],
             [
              0.2222222222222222,
              "#7201a8"
             ],
             [
              0.3333333333333333,
              "#9c179e"
             ],
             [
              0.4444444444444444,
              "#bd3786"
             ],
             [
              0.5555555555555556,
              "#d8576b"
             ],
             [
              0.6666666666666666,
              "#ed7953"
             ],
             [
              0.7777777777777778,
              "#fb9f3a"
             ],
             [
              0.8888888888888888,
              "#fdca26"
             ],
             [
              1,
              "#f0f921"
             ]
            ],
            "type": "surface"
           }
          ],
          "table": [
           {
            "cells": {
             "fill": {
              "color": "#EBF0F8"
             },
             "line": {
              "color": "white"
             }
            },
            "header": {
             "fill": {
              "color": "#C8D4E3"
             },
             "line": {
              "color": "white"
             }
            },
            "type": "table"
           }
          ]
         },
         "layout": {
          "annotationdefaults": {
           "arrowcolor": "#2a3f5f",
           "arrowhead": 0,
           "arrowwidth": 1
          },
          "autotypenumbers": "strict",
          "coloraxis": {
           "colorbar": {
            "outlinewidth": 0,
            "ticks": ""
           }
          },
          "colorscale": {
           "diverging": [
            [
             0,
             "#8e0152"
            ],
            [
             0.1,
             "#c51b7d"
            ],
            [
             0.2,
             "#de77ae"
            ],
            [
             0.3,
             "#f1b6da"
            ],
            [
             0.4,
             "#fde0ef"
            ],
            [
             0.5,
             "#f7f7f7"
            ],
            [
             0.6,
             "#e6f5d0"
            ],
            [
             0.7,
             "#b8e186"
            ],
            [
             0.8,
             "#7fbc41"
            ],
            [
             0.9,
             "#4d9221"
            ],
            [
             1,
             "#276419"
            ]
           ],
           "sequential": [
            [
             0,
             "#0d0887"
            ],
            [
             0.1111111111111111,
             "#46039f"
            ],
            [
             0.2222222222222222,
             "#7201a8"
            ],
            [
             0.3333333333333333,
             "#9c179e"
            ],
            [
             0.4444444444444444,
             "#bd3786"
            ],
            [
             0.5555555555555556,
             "#d8576b"
            ],
            [
             0.6666666666666666,
             "#ed7953"
            ],
            [
             0.7777777777777778,
             "#fb9f3a"
            ],
            [
             0.8888888888888888,
             "#fdca26"
            ],
            [
             1,
             "#f0f921"
            ]
           ],
           "sequentialminus": [
            [
             0,
             "#0d0887"
            ],
            [
             0.1111111111111111,
             "#46039f"
            ],
            [
             0.2222222222222222,
             "#7201a8"
            ],
            [
             0.3333333333333333,
             "#9c179e"
            ],
            [
             0.4444444444444444,
             "#bd3786"
            ],
            [
             0.5555555555555556,
             "#d8576b"
            ],
            [
             0.6666666666666666,
             "#ed7953"
            ],
            [
             0.7777777777777778,
             "#fb9f3a"
            ],
            [
             0.8888888888888888,
             "#fdca26"
            ],
            [
             1,
             "#f0f921"
            ]
           ]
          },
          "colorway": [
           "#636efa",
           "#EF553B",
           "#00cc96",
           "#ab63fa",
           "#FFA15A",
           "#19d3f3",
           "#FF6692",
           "#B6E880",
           "#FF97FF",
           "#FECB52"
          ],
          "font": {
           "color": "#2a3f5f"
          },
          "geo": {
           "bgcolor": "white",
           "lakecolor": "white",
           "landcolor": "#E5ECF6",
           "showlakes": true,
           "showland": true,
           "subunitcolor": "white"
          },
          "hoverlabel": {
           "align": "left"
          },
          "hovermode": "closest",
          "mapbox": {
           "style": "light"
          },
          "paper_bgcolor": "white",
          "plot_bgcolor": "#E5ECF6",
          "polar": {
           "angularaxis": {
            "gridcolor": "white",
            "linecolor": "white",
            "ticks": ""
           },
           "bgcolor": "#E5ECF6",
           "radialaxis": {
            "gridcolor": "white",
            "linecolor": "white",
            "ticks": ""
           }
          },
          "scene": {
           "xaxis": {
            "backgroundcolor": "#E5ECF6",
            "gridcolor": "white",
            "gridwidth": 2,
            "linecolor": "white",
            "showbackground": true,
            "ticks": "",
            "zerolinecolor": "white"
           },
           "yaxis": {
            "backgroundcolor": "#E5ECF6",
            "gridcolor": "white",
            "gridwidth": 2,
            "linecolor": "white",
            "showbackground": true,
            "ticks": "",
            "zerolinecolor": "white"
           },
           "zaxis": {
            "backgroundcolor": "#E5ECF6",
            "gridcolor": "white",
            "gridwidth": 2,
            "linecolor": "white",
            "showbackground": true,
            "ticks": "",
            "zerolinecolor": "white"
           }
          },
          "shapedefaults": {
           "line": {
            "color": "#2a3f5f"
           }
          },
          "ternary": {
           "aaxis": {
            "gridcolor": "white",
            "linecolor": "white",
            "ticks": ""
           },
           "baxis": {
            "gridcolor": "white",
            "linecolor": "white",
            "ticks": ""
           },
           "bgcolor": "#E5ECF6",
           "caxis": {
            "gridcolor": "white",
            "linecolor": "white",
            "ticks": ""
           }
          },
          "title": {
           "x": 0.05
          },
          "xaxis": {
           "automargin": true,
           "gridcolor": "white",
           "linecolor": "white",
           "ticks": "",
           "title": {
            "standoff": 15
           },
           "zerolinecolor": "white",
           "zerolinewidth": 2
          },
          "yaxis": {
           "automargin": true,
           "gridcolor": "white",
           "linecolor": "white",
           "ticks": "",
           "title": {
            "standoff": 15
           },
           "zerolinecolor": "white",
           "zerolinewidth": 2
          }
         }
        }
       }
      }
     },
     "metadata": {},
     "output_type": "display_data"
    }
   ],
   "source": [
    "fig = go.Figure(data=[go.Candlestick(x=candlestick_data['date'],\n",
    "                open=candlestick_data['Price']['first'], \n",
    "                high=candlestick_data['Price']['max'],\n",
    "                low=candlestick_data['Price']['min'], \n",
    "                close=candlestick_data['Price']['last'])])\n",
    "\n",
    "fig.show()"
   ]
  },
  {
   "cell_type": "markdown",
   "metadata": {},
   "source": [
    "We will improve it a bit: get rid of the range slider, add a title, an axis title, add a 7-day moving average...."
   ]
  },
  {
   "cell_type": "code",
   "execution_count": 80,
   "metadata": {},
   "outputs": [
    {
     "data": {
      "application/vnd.plotly.v1+json": {
       "config": {
        "plotlyServerURL": "https://plot.ly"
       },
       "data": [
        {
         "close": [
          21209.320784739168,
          21233.424675510672,
          21378.457584431082,
          20926.490848896436,
          20297.89684606259,
          20212.845389658232,
          18817.428797534387,
          19509.698246013148,
          19271.764100980385,
          19459.125691946734,
          19794.826973251827,
          20493.56267855715,
          20439.18359558386,
          21612.607612001564,
          21871.75322905647,
          21701.203205432786,
          20988.859654709046,
          20467.165948528767,
          19432.2077295873,
          19678.422458477453,
          20643.70957065769,
          20935.132283530755,
          21112.946209610458,
          20940.404419270526,
          21504.880600626013,
          23240.388132797627,
          23187.031678056144,
          23265.31217258106,
          22660.541570206577,
          22320.487207017723,
          22764.874016953596,
          22156.316403235767,
          20979.658061702532,
          22768.113543806525,
          24096.39273536243,
          23928.444994505488,
          23969.065901890666,
          23822.836507103373,
          23000.87953630366,
          23001.32394626324,
          23353.15526502444,
          22569.498122092893,
          22975.426717494902,
          23184.24808221292,
          23272.417273311374,
          24077.6213212528,
          23225.483443665544,
          23858.790451645888,
          24219.942651915677,
          24191.222378302533,
          24526.566260019863,
          24333.650926373277,
          24031.54671364497,
          23955.02208136487,
          23422.759819847073,
          23425.86439909843,
          21262.356421650205,
          21047.789975739346,
          21579.772073284483,
          21144.244156109835,
          21497.218883531015,
          21709.466473820663,
          21665.204650135012,
          20678.31929485367,
          20006.281500036624,
          20035.84872799553,
          20171.11155820618,
          20019.52385931446,
          20206.78876713249,
          20036.981773263775,
          19931.183820400067,
          19748.7222158202,
          19907.085494202784,
          19771.453565888736,
          18962.156929539422,
          19309.202073222634,
          19356.632688270314,
          21289.222882790094,
          21415.84449790088,
          21577.7168121273,
          22399.936222361033,
          20310.327147269836,
          19970.81845984509,
          19797.074799868453,
          19757.443997676535,
          20083.48379465311,
          19734.715040825704,
          19549.679390282075,
          18987.000710466196,
          18924.909554764974,
          19085.174244304555
         ],
         "high": [
          21287.049699605162,
          21501.71837213869,
          21637.93194874606,
          21475.850906626994,
          21108.771855309027,
          20398.530481386562,
          20323.32348553218,
          20429.178978753695,
          19432.5476006028,
          19482.648523109194,
          19948.82595273913,
          20493.56267855715,
          20439.18359558386,
          21790.773518813978,
          22109.67363877527,
          21851.62314659787,
          21729.069959078217,
          21078.461007485323,
          20328.664022834084,
          19912.101239181808,
          20697.65730744682,
          21135.784032550167,
          21399.149590512203,
          21509.626028828054,
          22343.508744451945,
          23445.835506804622,
          24160.26051317441,
          23615.00126368033,
          23665.847268253943,
          22913.847008028315,
          22818.98164988223,
          22860.15456315955,
          22093.497347624514,
          22771.270843145114,
          24096.39273536243,
          24111.642706055765,
          24581.147996301323,
          23941.571252496764,
          23603.763247155497,
          23412.928605120822,
          23561.825256339675,
          23329.23241864078,
          23426.863032781774,
          23289.635614459137,
          23272.417273311374,
          24185.790367799396,
          23922.088571506163,
          24058.48718001248,
          24750.869105965743,
          24242.726709539424,
          24806.972862863026,
          24988.449475661626,
          24995.084223759943,
          24201.106463423406,
          24438.65114516452,
          23544.99659633802,
          23400.33134198729,
          21337.446249846336,
          21579.772073284483,
          21624.438126058663,
          21573.419189486187,
          21753.125073207593,
          21744.65371535301,
          21743.888984894827,
          20662.2003880511,
          20068.799454617034,
          20330.2844178171,
          20504.086104059224,
          20392.031630394245,
          20195.51908677015,
          20385.757561178234,
          20017.062557851583,
          19907.085494202784,
          19991.922291728963,
          20055.02546048482,
          19309.202073222634,
          19358.963459849565,
          21318.852776588657,
          21580.124111951085,
          21774.051156897473,
          22423.59437711096,
          22534.613722181795,
          20408.345336243998,
          20296.65495045268,
          19877.977087031624,
          20110.66411879399,
          20129.877778640617,
          19549.679390282075,
          19610.73981971188,
          19721.930672889866,
          19255.560738985212
         ],
         "low": [
          20890.068373677685,
          21052.234957037992,
          21236.76975398373,
          20741.872123533976,
          20275.064146099572,
          19958.85785017017,
          18817.428797534387,
          18891.797838893755,
          19109.36728283634,
          19015.70479020643,
          19106.023615759324,
          19420.07949592582,
          19885.77210297521,
          20347.039132249396,
          21293.230606876863,
          21511.65655197816,
          20828.123959221815,
          20402.976831119686,
          19432.2077295873,
          19113.688678973267,
          19748.348514149035,
          20435.357940523878,
          20522.749339726004,
          20935.72186429424,
          20802.939872166535,
          21702.15743148427,
          22993.315869564274,
          22524.740213750025,
          22648.696277101935,
          22067.867506426574,
          22292.19568398394,
          21803.164657544028,
          20783.38730581848,
          20945.99479959712,
          22682.579093735007,
          23562.502043879984,
          23753.06404760113,
          23653.459549430798,
          22916.219054614387,
          22754.248681980403,
          22778.669544609886,
          22526.435183639795,
          22555.159978032265,
          23152.80401737373,
          22935.020076158922,
          23197.603469525384,
          23033.520503040574,
          22826.073530150657,
          23927.586063607472,
          23687.14585329236,
          24153.31732524531,
          24306.625499799313,
          24001.62167238593,
          23748.937384747824,
          23310.441132681575,
          23283.007167550375,
          21262.356421650205,
          20945.8339660496,
          21089.34346469739,
          21014.941851712294,
          21027.824239483318,
          21210.506739067972,
          21393.11181642864,
          20664.237944991935,
          19962.011627384836,
          19920.04992305463,
          19659.24670619362,
          19621.977345816773,
          19810.92814167189,
          19632.460381752,
          19825.516782022358,
          19748.7222158202,
          19704.095425350646,
          19657.119800572724,
          18843.881247716556,
          18650.249852206176,
          19142.86383896073,
          19310.827707212924,
          21186.66238874573,
          21417.347666437636,
          21594.133225623027,
          20253.46331014825,
          19850.47671454887,
          19754.33385904475,
          19473.36978414912,
          19740.612796398564,
          19674.818580605563,
          18471.224601532595,
          18830.917030469813,
          18874.85455696598,
          18424.697746688696
         ],
         "name": "Candlesticks",
         "open": [
          21166.18246916643,
          21325.24323022908,
          21498.410334444172,
          21389.480570807817,
          20831.20613286452,
          20398.530481386562,
          20323.32348553218,
          18891.797838893755,
          19432.5476006028,
          19378.141016164303,
          19305.319017338865,
          19942.643586891456,
          20360.731340849467,
          20347.961860498646,
          21650.057280687386,
          21777.87384201648,
          21729.069959078217,
          21078.461007485323,
          20328.664022834084,
          19469.02153566098,
          19871.55142565721,
          20487.414521882423,
          20952.99637132786,
          21232.890055531167,
          21004.01890464112,
          21702.15743148427,
          23654.858145187776,
          23615.00126368033,
          23216.702129125562,
          22750.711397194504,
          22292.19568398394,
          22789.404089591724,
          22093.497347624514,
          20945.99479959712,
          22682.579093735007,
          23894.595145068964,
          23801.2595433089,
          23941.571252496764,
          23603.763247155497,
          23024.727978517763,
          23073.917545949414,
          23329.23241864078,
          22555.159978032265,
          23152.80401737373,
          23191.557167588115,
          23326.974063756443,
          23868.383379107203,
          23211.524629817377,
          23947.125380871003,
          24129.803153214303,
          24153.31732524531,
          24513.0326931169,
          24376.724057770207,
          24036.232181401978,
          23951.680151237346,
          23353.223660718722,
          23400.33134198729,
          21149.761861231138,
          21089.34346469739,
          21563.34159908524,
          21095.017240500136,
          21488.194894542507,
          21682.126103207724,
          21612.162640166385,
          20657.160623596894,
          19920.602664836333,
          19993.987403138035,
          20198.676486041033,
          19897.547646945553,
          20195.51908677015,
          20082.831626022213,
          19976.971582470098,
          19764.93131960846,
          19920.195380243204,
          19745.13386495198,
          18973.986611975113,
          19358.963459849565,
          19346.505171499677,
          21328.391205663742,
          21611.291722302372,
          21625.30916872812,
          22360.688959782823,
          20100.219821471135,
          20195.581020961064,
          19832.497920528807,
          19776.587501387727,
          20060.921344057486,
          19528.583240156255,
          19549.62267526214,
          18936.29784696831,
          18469.79380196139
         ],
         "type": "candlestick",
         "x": [
          "2022-06-24",
          "2022-06-25",
          "2022-06-26",
          "2022-06-27",
          "2022-06-28",
          "2022-06-29",
          "2022-06-30",
          "2022-07-01",
          "2022-07-02",
          "2022-07-03",
          "2022-07-04",
          "2022-07-05",
          "2022-07-06",
          "2022-07-07",
          "2022-07-08",
          "2022-07-09",
          "2022-07-10",
          "2022-07-11",
          "2022-07-12",
          "2022-07-13",
          "2022-07-14",
          "2022-07-15",
          "2022-07-16",
          "2022-07-17",
          "2022-07-18",
          "2022-07-19",
          "2022-07-20",
          "2022-07-21",
          "2022-07-22",
          "2022-07-23",
          "2022-07-24",
          "2022-07-25",
          "2022-07-26",
          "2022-07-27",
          "2022-07-28",
          "2022-07-29",
          "2022-07-30",
          "2022-07-31",
          "2022-08-01",
          "2022-08-02",
          "2022-08-03",
          "2022-08-04",
          "2022-08-05",
          "2022-08-06",
          "2022-08-07",
          "2022-08-08",
          "2022-08-09",
          "2022-08-10",
          "2022-08-11",
          "2022-08-12",
          "2022-08-13",
          "2022-08-14",
          "2022-08-15",
          "2022-08-16",
          "2022-08-17",
          "2022-08-18",
          "2022-08-19",
          "2022-08-20",
          "2022-08-21",
          "2022-08-22",
          "2022-08-23",
          "2022-08-24",
          "2022-08-25",
          "2022-08-26",
          "2022-08-27",
          "2022-08-28",
          "2022-08-29",
          "2022-08-30",
          "2022-08-31",
          "2022-09-01",
          "2022-09-02",
          "2022-09-03",
          "2022-09-04",
          "2022-09-05",
          "2022-09-06",
          "2022-09-07",
          "2022-09-08",
          "2022-09-09",
          "2022-09-10",
          "2022-09-11",
          "2022-09-12",
          "2022-09-13",
          "2022-09-14",
          "2022-09-15",
          "2022-09-16",
          "2022-09-17",
          "2022-09-18",
          "2022-09-19",
          "2022-09-20",
          "2022-09-21",
          "2022-09-22"
         ]
        },
        {
         "line": {
          "color": "#000000"
         },
         "name": "7-day moving average",
         "type": "scatter",
         "x": [
          "2022-06-24",
          "2022-06-25",
          "2022-06-26",
          "2022-06-27",
          "2022-06-28",
          "2022-06-29",
          "2022-06-30",
          "2022-07-01",
          "2022-07-02",
          "2022-07-03",
          "2022-07-04",
          "2022-07-05",
          "2022-07-06",
          "2022-07-07",
          "2022-07-08",
          "2022-07-09",
          "2022-07-10",
          "2022-07-11",
          "2022-07-12",
          "2022-07-13",
          "2022-07-14",
          "2022-07-15",
          "2022-07-16",
          "2022-07-17",
          "2022-07-18",
          "2022-07-19",
          "2022-07-20",
          "2022-07-21",
          "2022-07-22",
          "2022-07-23",
          "2022-07-24",
          "2022-07-25",
          "2022-07-26",
          "2022-07-27",
          "2022-07-28",
          "2022-07-29",
          "2022-07-30",
          "2022-07-31",
          "2022-08-01",
          "2022-08-02",
          "2022-08-03",
          "2022-08-04",
          "2022-08-05",
          "2022-08-06",
          "2022-08-07",
          "2022-08-08",
          "2022-08-09",
          "2022-08-10",
          "2022-08-11",
          "2022-08-12",
          "2022-08-13",
          "2022-08-14",
          "2022-08-15",
          "2022-08-16",
          "2022-08-17",
          "2022-08-18",
          "2022-08-19",
          "2022-08-20",
          "2022-08-21",
          "2022-08-22",
          "2022-08-23",
          "2022-08-24",
          "2022-08-25",
          "2022-08-26",
          "2022-08-27",
          "2022-08-28",
          "2022-08-29",
          "2022-08-30",
          "2022-08-31",
          "2022-09-01",
          "2022-09-02",
          "2022-09-03",
          "2022-09-04",
          "2022-09-05",
          "2022-09-06",
          "2022-09-07",
          "2022-09-08",
          "2022-09-09",
          "2022-09-10",
          "2022-09-11",
          "2022-09-12",
          "2022-09-13",
          "2022-09-14",
          "2022-09-15",
          "2022-09-16",
          "2022-09-17",
          "2022-09-18",
          "2022-09-19",
          "2022-09-20",
          "2022-09-21",
          "2022-09-22"
         ],
         "y": [
          null,
          null,
          null,
          20582.266418118936,
          20339.46319830094,
          20059.22597336804,
          19785.03570301313,
          19623.3694350639,
          19651.321696848838,
          19683.655726266785,
          20082.96698547638,
          20420.403411625426,
          20767.466140832916,
          20985.999564084672,
          21082.047989124232,
          20930.42585355711,
          20821.74569111334,
          20683.331685207075,
          20549.52869298911,
          20465.491979300212,
          20458.56980280899,
          20606.8147531086,
          21150.840524995787,
          21652.07041350703,
          22026.585070924655,
          22273.072111878344,
          22445.57796865081,
          22706.216482605534,
          22799.278740121215,
          22476.31730139334,
          22416.471853643397,
          22535.19764832645,
          22716.32670894058,
          22951.837951065285,
          23102.97544965811,
          23223.627325810667,
          23512.43673789077,
          23596.014126636182,
          23377.886324740535,
          23241.74085659617,
          23129.62402521363,
          23050.99270610049,
          23204.812961093226,
          23236.83574643641,
          23309.06934452519,
          23544.847134499872,
          23718.532228900964,
          23910.29196858767,
          24061.896776167938,
          24055.31468936682,
          24159.53449475244,
          24097.24440449547,
          23983.804654093,
          23565.395231714097,
          23068.427191102597,
          22675.01592637563,
          22262.54413244203,
          21911.42938989434,
          21666.673197604854,
          21415.150376324367,
          21331.716501067716,
          21182.92957596733,
          20962.36909806891,
          20823.35015551124,
          20612.250866337446,
          20397.582622524853,
          20164.97935440039,
          20058.24571519273,
          20021.451531733244,
          20003.056784048564,
          19945.962785146075,
          19794.910366606782,
          19666.68369604823,
          19569.490969620594,
          19763.496549962027,
          20001.65687597355,
          20240.318492819908,
          20615.816015173095,
          20808.411760563155,
          20902.928387223506,
          20965.848688880385,
          20747.02313386416,
          20556.68589054305,
          20293.399923214252,
          19886.220375774403,
          19697.17374194531,
          19547.758184076723,
          19446.05810471045,
          null,
          null,
          null
         ]
        }
       ],
       "layout": {
        "legend": {
         "orientation": "h",
         "x": 0.5,
         "xanchor": "center",
         "y": 1.02,
         "yanchor": "bottom"
        },
        "template": {
         "data": {
          "bar": [
           {
            "error_x": {
             "color": "rgb(36,36,36)"
            },
            "error_y": {
             "color": "rgb(36,36,36)"
            },
            "marker": {
             "line": {
              "color": "white",
              "width": 0.5
             },
             "pattern": {
              "fillmode": "overlay",
              "size": 10,
              "solidity": 0.2
             }
            },
            "type": "bar"
           }
          ],
          "barpolar": [
           {
            "marker": {
             "line": {
              "color": "white",
              "width": 0.5
             },
             "pattern": {
              "fillmode": "overlay",
              "size": 10,
              "solidity": 0.2
             }
            },
            "type": "barpolar"
           }
          ],
          "carpet": [
           {
            "aaxis": {
             "endlinecolor": "rgb(36,36,36)",
             "gridcolor": "white",
             "linecolor": "white",
             "minorgridcolor": "white",
             "startlinecolor": "rgb(36,36,36)"
            },
            "baxis": {
             "endlinecolor": "rgb(36,36,36)",
             "gridcolor": "white",
             "linecolor": "white",
             "minorgridcolor": "white",
             "startlinecolor": "rgb(36,36,36)"
            },
            "type": "carpet"
           }
          ],
          "choropleth": [
           {
            "colorbar": {
             "outlinewidth": 1,
             "tickcolor": "rgb(36,36,36)",
             "ticks": "outside"
            },
            "type": "choropleth"
           }
          ],
          "contour": [
           {
            "colorbar": {
             "outlinewidth": 1,
             "tickcolor": "rgb(36,36,36)",
             "ticks": "outside"
            },
            "colorscale": [
             [
              0,
              "#440154"
             ],
             [
              0.1111111111111111,
              "#482878"
             ],
             [
              0.2222222222222222,
              "#3e4989"
             ],
             [
              0.3333333333333333,
              "#31688e"
             ],
             [
              0.4444444444444444,
              "#26828e"
             ],
             [
              0.5555555555555556,
              "#1f9e89"
             ],
             [
              0.6666666666666666,
              "#35b779"
             ],
             [
              0.7777777777777778,
              "#6ece58"
             ],
             [
              0.8888888888888888,
              "#b5de2b"
             ],
             [
              1,
              "#fde725"
             ]
            ],
            "type": "contour"
           }
          ],
          "contourcarpet": [
           {
            "colorbar": {
             "outlinewidth": 1,
             "tickcolor": "rgb(36,36,36)",
             "ticks": "outside"
            },
            "type": "contourcarpet"
           }
          ],
          "heatmap": [
           {
            "colorbar": {
             "outlinewidth": 1,
             "tickcolor": "rgb(36,36,36)",
             "ticks": "outside"
            },
            "colorscale": [
             [
              0,
              "#440154"
             ],
             [
              0.1111111111111111,
              "#482878"
             ],
             [
              0.2222222222222222,
              "#3e4989"
             ],
             [
              0.3333333333333333,
              "#31688e"
             ],
             [
              0.4444444444444444,
              "#26828e"
             ],
             [
              0.5555555555555556,
              "#1f9e89"
             ],
             [
              0.6666666666666666,
              "#35b779"
             ],
             [
              0.7777777777777778,
              "#6ece58"
             ],
             [
              0.8888888888888888,
              "#b5de2b"
             ],
             [
              1,
              "#fde725"
             ]
            ],
            "type": "heatmap"
           }
          ],
          "heatmapgl": [
           {
            "colorbar": {
             "outlinewidth": 1,
             "tickcolor": "rgb(36,36,36)",
             "ticks": "outside"
            },
            "colorscale": [
             [
              0,
              "#440154"
             ],
             [
              0.1111111111111111,
              "#482878"
             ],
             [
              0.2222222222222222,
              "#3e4989"
             ],
             [
              0.3333333333333333,
              "#31688e"
             ],
             [
              0.4444444444444444,
              "#26828e"
             ],
             [
              0.5555555555555556,
              "#1f9e89"
             ],
             [
              0.6666666666666666,
              "#35b779"
             ],
             [
              0.7777777777777778,
              "#6ece58"
             ],
             [
              0.8888888888888888,
              "#b5de2b"
             ],
             [
              1,
              "#fde725"
             ]
            ],
            "type": "heatmapgl"
           }
          ],
          "histogram": [
           {
            "marker": {
             "line": {
              "color": "white",
              "width": 0.6
             }
            },
            "type": "histogram"
           }
          ],
          "histogram2d": [
           {
            "colorbar": {
             "outlinewidth": 1,
             "tickcolor": "rgb(36,36,36)",
             "ticks": "outside"
            },
            "colorscale": [
             [
              0,
              "#440154"
             ],
             [
              0.1111111111111111,
              "#482878"
             ],
             [
              0.2222222222222222,
              "#3e4989"
             ],
             [
              0.3333333333333333,
              "#31688e"
             ],
             [
              0.4444444444444444,
              "#26828e"
             ],
             [
              0.5555555555555556,
              "#1f9e89"
             ],
             [
              0.6666666666666666,
              "#35b779"
             ],
             [
              0.7777777777777778,
              "#6ece58"
             ],
             [
              0.8888888888888888,
              "#b5de2b"
             ],
             [
              1,
              "#fde725"
             ]
            ],
            "type": "histogram2d"
           }
          ],
          "histogram2dcontour": [
           {
            "colorbar": {
             "outlinewidth": 1,
             "tickcolor": "rgb(36,36,36)",
             "ticks": "outside"
            },
            "colorscale": [
             [
              0,
              "#440154"
             ],
             [
              0.1111111111111111,
              "#482878"
             ],
             [
              0.2222222222222222,
              "#3e4989"
             ],
             [
              0.3333333333333333,
              "#31688e"
             ],
             [
              0.4444444444444444,
              "#26828e"
             ],
             [
              0.5555555555555556,
              "#1f9e89"
             ],
             [
              0.6666666666666666,
              "#35b779"
             ],
             [
              0.7777777777777778,
              "#6ece58"
             ],
             [
              0.8888888888888888,
              "#b5de2b"
             ],
             [
              1,
              "#fde725"
             ]
            ],
            "type": "histogram2dcontour"
           }
          ],
          "mesh3d": [
           {
            "colorbar": {
             "outlinewidth": 1,
             "tickcolor": "rgb(36,36,36)",
             "ticks": "outside"
            },
            "type": "mesh3d"
           }
          ],
          "parcoords": [
           {
            "line": {
             "colorbar": {
              "outlinewidth": 1,
              "tickcolor": "rgb(36,36,36)",
              "ticks": "outside"
             }
            },
            "type": "parcoords"
           }
          ],
          "pie": [
           {
            "automargin": true,
            "type": "pie"
           }
          ],
          "scatter": [
           {
            "marker": {
             "colorbar": {
              "outlinewidth": 1,
              "tickcolor": "rgb(36,36,36)",
              "ticks": "outside"
             }
            },
            "type": "scatter"
           }
          ],
          "scatter3d": [
           {
            "line": {
             "colorbar": {
              "outlinewidth": 1,
              "tickcolor": "rgb(36,36,36)",
              "ticks": "outside"
             }
            },
            "marker": {
             "colorbar": {
              "outlinewidth": 1,
              "tickcolor": "rgb(36,36,36)",
              "ticks": "outside"
             }
            },
            "type": "scatter3d"
           }
          ],
          "scattercarpet": [
           {
            "marker": {
             "colorbar": {
              "outlinewidth": 1,
              "tickcolor": "rgb(36,36,36)",
              "ticks": "outside"
             }
            },
            "type": "scattercarpet"
           }
          ],
          "scattergeo": [
           {
            "marker": {
             "colorbar": {
              "outlinewidth": 1,
              "tickcolor": "rgb(36,36,36)",
              "ticks": "outside"
             }
            },
            "type": "scattergeo"
           }
          ],
          "scattergl": [
           {
            "marker": {
             "colorbar": {
              "outlinewidth": 1,
              "tickcolor": "rgb(36,36,36)",
              "ticks": "outside"
             }
            },
            "type": "scattergl"
           }
          ],
          "scattermapbox": [
           {
            "marker": {
             "colorbar": {
              "outlinewidth": 1,
              "tickcolor": "rgb(36,36,36)",
              "ticks": "outside"
             }
            },
            "type": "scattermapbox"
           }
          ],
          "scatterpolar": [
           {
            "marker": {
             "colorbar": {
              "outlinewidth": 1,
              "tickcolor": "rgb(36,36,36)",
              "ticks": "outside"
             }
            },
            "type": "scatterpolar"
           }
          ],
          "scatterpolargl": [
           {
            "marker": {
             "colorbar": {
              "outlinewidth": 1,
              "tickcolor": "rgb(36,36,36)",
              "ticks": "outside"
             }
            },
            "type": "scatterpolargl"
           }
          ],
          "scatterternary": [
           {
            "marker": {
             "colorbar": {
              "outlinewidth": 1,
              "tickcolor": "rgb(36,36,36)",
              "ticks": "outside"
             }
            },
            "type": "scatterternary"
           }
          ],
          "surface": [
           {
            "colorbar": {
             "outlinewidth": 1,
             "tickcolor": "rgb(36,36,36)",
             "ticks": "outside"
            },
            "colorscale": [
             [
              0,
              "#440154"
             ],
             [
              0.1111111111111111,
              "#482878"
             ],
             [
              0.2222222222222222,
              "#3e4989"
             ],
             [
              0.3333333333333333,
              "#31688e"
             ],
             [
              0.4444444444444444,
              "#26828e"
             ],
             [
              0.5555555555555556,
              "#1f9e89"
             ],
             [
              0.6666666666666666,
              "#35b779"
             ],
             [
              0.7777777777777778,
              "#6ece58"
             ],
             [
              0.8888888888888888,
              "#b5de2b"
             ],
             [
              1,
              "#fde725"
             ]
            ],
            "type": "surface"
           }
          ],
          "table": [
           {
            "cells": {
             "fill": {
              "color": "rgb(237,237,237)"
             },
             "line": {
              "color": "white"
             }
            },
            "header": {
             "fill": {
              "color": "rgb(217,217,217)"
             },
             "line": {
              "color": "white"
             }
            },
            "type": "table"
           }
          ]
         },
         "layout": {
          "annotationdefaults": {
           "arrowhead": 0,
           "arrowwidth": 1
          },
          "autotypenumbers": "strict",
          "coloraxis": {
           "colorbar": {
            "outlinewidth": 1,
            "tickcolor": "rgb(36,36,36)",
            "ticks": "outside"
           }
          },
          "colorscale": {
           "diverging": [
            [
             0,
             "rgb(103,0,31)"
            ],
            [
             0.1,
             "rgb(178,24,43)"
            ],
            [
             0.2,
             "rgb(214,96,77)"
            ],
            [
             0.3,
             "rgb(244,165,130)"
            ],
            [
             0.4,
             "rgb(253,219,199)"
            ],
            [
             0.5,
             "rgb(247,247,247)"
            ],
            [
             0.6,
             "rgb(209,229,240)"
            ],
            [
             0.7,
             "rgb(146,197,222)"
            ],
            [
             0.8,
             "rgb(67,147,195)"
            ],
            [
             0.9,
             "rgb(33,102,172)"
            ],
            [
             1,
             "rgb(5,48,97)"
            ]
           ],
           "sequential": [
            [
             0,
             "#440154"
            ],
            [
             0.1111111111111111,
             "#482878"
            ],
            [
             0.2222222222222222,
             "#3e4989"
            ],
            [
             0.3333333333333333,
             "#31688e"
            ],
            [
             0.4444444444444444,
             "#26828e"
            ],
            [
             0.5555555555555556,
             "#1f9e89"
            ],
            [
             0.6666666666666666,
             "#35b779"
            ],
            [
             0.7777777777777778,
             "#6ece58"
            ],
            [
             0.8888888888888888,
             "#b5de2b"
            ],
            [
             1,
             "#fde725"
            ]
           ],
           "sequentialminus": [
            [
             0,
             "#440154"
            ],
            [
             0.1111111111111111,
             "#482878"
            ],
            [
             0.2222222222222222,
             "#3e4989"
            ],
            [
             0.3333333333333333,
             "#31688e"
            ],
            [
             0.4444444444444444,
             "#26828e"
            ],
            [
             0.5555555555555556,
             "#1f9e89"
            ],
            [
             0.6666666666666666,
             "#35b779"
            ],
            [
             0.7777777777777778,
             "#6ece58"
            ],
            [
             0.8888888888888888,
             "#b5de2b"
            ],
            [
             1,
             "#fde725"
            ]
           ]
          },
          "colorway": [
           "#1F77B4",
           "#FF7F0E",
           "#2CA02C",
           "#D62728",
           "#9467BD",
           "#8C564B",
           "#E377C2",
           "#7F7F7F",
           "#BCBD22",
           "#17BECF"
          ],
          "font": {
           "color": "rgb(36,36,36)"
          },
          "geo": {
           "bgcolor": "white",
           "lakecolor": "white",
           "landcolor": "white",
           "showlakes": true,
           "showland": true,
           "subunitcolor": "white"
          },
          "hoverlabel": {
           "align": "left"
          },
          "hovermode": "closest",
          "mapbox": {
           "style": "light"
          },
          "paper_bgcolor": "white",
          "plot_bgcolor": "white",
          "polar": {
           "angularaxis": {
            "gridcolor": "rgb(232,232,232)",
            "linecolor": "rgb(36,36,36)",
            "showgrid": false,
            "showline": true,
            "ticks": "outside"
           },
           "bgcolor": "white",
           "radialaxis": {
            "gridcolor": "rgb(232,232,232)",
            "linecolor": "rgb(36,36,36)",
            "showgrid": false,
            "showline": true,
            "ticks": "outside"
           }
          },
          "scene": {
           "xaxis": {
            "backgroundcolor": "white",
            "gridcolor": "rgb(232,232,232)",
            "gridwidth": 2,
            "linecolor": "rgb(36,36,36)",
            "showbackground": true,
            "showgrid": false,
            "showline": true,
            "ticks": "outside",
            "zeroline": false,
            "zerolinecolor": "rgb(36,36,36)"
           },
           "yaxis": {
            "backgroundcolor": "white",
            "gridcolor": "rgb(232,232,232)",
            "gridwidth": 2,
            "linecolor": "rgb(36,36,36)",
            "showbackground": true,
            "showgrid": false,
            "showline": true,
            "ticks": "outside",
            "zeroline": false,
            "zerolinecolor": "rgb(36,36,36)"
           },
           "zaxis": {
            "backgroundcolor": "white",
            "gridcolor": "rgb(232,232,232)",
            "gridwidth": 2,
            "linecolor": "rgb(36,36,36)",
            "showbackground": true,
            "showgrid": false,
            "showline": true,
            "ticks": "outside",
            "zeroline": false,
            "zerolinecolor": "rgb(36,36,36)"
           }
          },
          "shapedefaults": {
           "fillcolor": "black",
           "line": {
            "width": 0
           },
           "opacity": 0.3
          },
          "ternary": {
           "aaxis": {
            "gridcolor": "rgb(232,232,232)",
            "linecolor": "rgb(36,36,36)",
            "showgrid": false,
            "showline": true,
            "ticks": "outside"
           },
           "baxis": {
            "gridcolor": "rgb(232,232,232)",
            "linecolor": "rgb(36,36,36)",
            "showgrid": false,
            "showline": true,
            "ticks": "outside"
           },
           "bgcolor": "white",
           "caxis": {
            "gridcolor": "rgb(232,232,232)",
            "linecolor": "rgb(36,36,36)",
            "showgrid": false,
            "showline": true,
            "ticks": "outside"
           }
          },
          "title": {
           "x": 0.05
          },
          "xaxis": {
           "automargin": true,
           "gridcolor": "rgb(232,232,232)",
           "linecolor": "rgb(36,36,36)",
           "showgrid": false,
           "showline": true,
           "ticks": "outside",
           "title": {
            "standoff": 15
           },
           "zeroline": false,
           "zerolinecolor": "rgb(36,36,36)"
          },
          "yaxis": {
           "automargin": true,
           "gridcolor": "rgb(232,232,232)",
           "linecolor": "rgb(36,36,36)",
           "showgrid": false,
           "showline": true,
           "ticks": "outside",
           "title": {
            "standoff": 15
           },
           "zeroline": false,
           "zerolinecolor": "rgb(36,36,36)"
          }
         }
        },
        "title": {
         "text": "Evolution of bitcoin price (in USD) in the last 90 days"
        },
        "xaxis": {
         "rangeslider": {
          "visible": false
         }
        },
        "yaxis": {
         "title": {
          "text": "USD"
         }
        }
       }
      }
     },
     "metadata": {},
     "output_type": "display_data"
    }
   ],
   "source": [
    "candlestick_data['7dma'] = candlestick_data['Price']['last'].rolling(window = 7,center = True).mean()\n",
    "\n",
    "fig.update_layout(xaxis_rangeslider_visible=False, \n",
    "template = \"simple_white\", \n",
    "title = \"Evolution of bitcoin price (in USD) in the last 90 days\", \n",
    "yaxis_title = \"USD\",\n",
    "legend=dict(\n",
    "    orientation=\"h\",\n",
    "    yanchor=\"bottom\",\n",
    "    y=1.02,\n",
    "    xanchor=\"center\",\n",
    "    x=0.5\n",
    "))\n",
    "\n",
    "fig.data[0].name=\"Candlesticks\"\n",
    "\n",
    "fig.add_trace(go.Scatter(x = candlestick_data['date'], \n",
    "    y = candlestick_data['7dma'],\n",
    "    line = dict(color = \"#000000\"),\n",
    "    name = \"7-day moving average\"))\n",
    "fig.show()"
   ]
  },
  {
   "cell_type": "markdown",
   "metadata": {},
   "source": [
    "Et voilà :) ! \n",
    "\n",
    "We learn to retrieve data using CoinGecko API, to prepare and aggregate the data using pandas, and to visualise it using plotly. "
   ]
  }
 ],
 "metadata": {
  "kernelspec": {
   "display_name": "Python 3.9.12 ('base': conda)",
   "language": "python",
   "name": "python3"
  },
  "language_info": {
   "codemirror_mode": {
    "name": "ipython",
    "version": 3
   },
   "file_extension": ".py",
   "mimetype": "text/x-python",
   "name": "python",
   "nbconvert_exporter": "python",
   "pygments_lexer": "ipython3",
   "version": "3.9.12"
  },
  "orig_nbformat": 4,
  "vscode": {
   "interpreter": {
    "hash": "6dfc145827ab0f58a7a1474a0011303d8d42630ba263253b37e9a43e58dcb3ec"
   }
  }
 },
 "nbformat": 4,
 "nbformat_minor": 2
}
